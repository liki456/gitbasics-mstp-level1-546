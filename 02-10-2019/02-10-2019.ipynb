{
 "cells": [
  {
   "cell_type": "markdown",
   "metadata": {},
   "source": [
    "# Regular expressions"
   ]
  },
  {
   "cell_type": "markdown",
   "metadata": {},
   "source": [
    "1.abc -that matches the character sequence anywhere in the string\n",
    "2.^--->beginning of the string\n",
    "3.$---->End of the string\n",
    "4.a|b--->either a or b\n",
    "5.^a[a-z]{2,8}[A-Z]{6,9}s$\n",
    "    * {2,} define for how many times to repeat"
   ]
  },
  {
   "cell_type": "code",
   "execution_count": 2,
   "metadata": {},
   "outputs": [
    {
     "data": {
      "text/plain": [
       "1"
      ]
     },
     "execution_count": 2,
     "metadata": {},
     "output_type": "execute_result"
    }
   ],
   "source": [
    "#phone number vallidation\n",
    "#^[+][9][1][6-9][0-9]{9}$        \n",
    "# ^[0][6-9][0-9]{9}$\n",
    "#^[6-9][0-9]{9}$\n",
    "import re\n",
    "def phoneno(no):\n",
    "    pattern='^[+][9][1][6789][0-9]{9}$|^[0][6-9][0-9]{9}$|^[6-9][0-9]{9}$'\n",
    "    if re.match(pattern,str(no)):\n",
    "        return 1\n",
    "    else:\n",
    "        return 0\n",
    "phoneno(9490711839)\n",
    "\n",
    "    "
   ]
  },
  {
   "cell_type": "code",
   "execution_count": 9,
   "metadata": {},
   "outputs": [
    {
     "data": {
      "text/plain": [
       "0"
      ]
     },
     "execution_count": 9,
     "metadata": {},
     "output_type": "execute_result"
    }
   ],
   "source": [
    "import re\n",
    "def email(e):\n",
    "    mail=\"^(A-Z]|a-z]|0-9])([A-Z]|[a-z]|[_]|[0-9]){5,14}(A-z]|a-z]|0-9])[@][a-z]{2,10}[.][a-z]{2,8}$\"\n",
    "    if re.match(mail,e):\n",
    "        return 1\n",
    "    else:\n",
    "        return 0\n",
    "email(\"reddylikitha61@gmail.com\")"
   ]
  },
  {
   "cell_type": "code",
   "execution_count": null,
   "metadata": {},
   "outputs": [],
   "source": []
  }
 ],
 "metadata": {
  "kernelspec": {
   "display_name": "Python 3",
   "language": "python",
   "name": "python3"
  },
  "language_info": {
   "codemirror_mode": {
    "name": "ipython",
    "version": 3
   },
   "file_extension": ".py",
   "mimetype": "text/x-python",
   "name": "python",
   "nbconvert_exporter": "python",
   "pygments_lexer": "ipython3",
   "version": "3.7.3"
  }
 },
 "nbformat": 4,
 "nbformat_minor": 2
}
