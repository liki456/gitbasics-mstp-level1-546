{
 "cells": [
  {
   "cell_type": "markdown",
   "metadata": {},
   "source": [
    "# File Handling "
   ]
  },
  {
   "cell_type": "markdown",
   "metadata": {},
   "source": [
    "1. read----r\n",
    "2. write---w\n",
    "3. append--a\n",
    "4. read&write---r+\n",
    "5. write&read---w+\n",
    "6. append&read--a+\n",
    "7. Exclusive write----X"
   ]
  },
  {
   "cell_type": "code",
   "execution_count": null,
   "metadata": {},
   "outputs": [],
   "source": [
    "# file opening\n",
    "# file=open(\"sample.txt\",\"mode\")"
   ]
  },
  {
   "cell_type": "code",
   "execution_count": 7,
   "metadata": {},
   "outputs": [],
   "source": [
    "# Create a file and add some content\n",
    "f=open(\"data.txt\",'w')\n",
    "f.write(\"wecome to dasara holidays\")\n",
    "f.write(\" \\ntwo more days to go\\n\")\n",
    "f.close()"
   ]
  },
  {
   "cell_type": "code",
   "execution_count": 10,
   "metadata": {},
   "outputs": [
    {
     "name": "stdout",
     "output_type": "stream",
     "text": [
      "wecome to dasara holidays \n",
      "two more days to go\n",
      "\n"
     ]
    }
   ],
   "source": [
    "# print content present in the file\n",
    "t=open(\"data.txt\",'r')\n",
    "f1=t.read()\n",
    "print(f1)\n",
    "t.close()"
   ]
  },
  {
   "cell_type": "code",
   "execution_count": 13,
   "metadata": {},
   "outputs": [
    {
     "name": "stdout",
     "output_type": "stream",
     "text": [
      "wecome to dasara holidays \n",
      "two more days to go\n",
      "\n"
     ]
    }
   ],
   "source": [
    "#function call for to see the data present in the file\n",
    "def create(t):\n",
    "    t=open(\"data.txt\",'r')\n",
    "    f1=t.read()\n",
    "    print(f1)\n",
    "    t.close()\n",
    "#t=\"data.txt\"\n",
    "create(t)"
   ]
  },
  {
   "cell_type": "code",
   "execution_count": 8,
   "metadata": {},
   "outputs": [],
   "source": [
    "# functions for write content\n",
    "def addcontent(u):\n",
    "    u=open(\"data.txt\",'w')\n",
    "    u.write(\"one more day to go\")\n",
    "    \n",
    "    \n",
    "    u.close()\n",
    "u=\"data.txt\"\n",
    "addcontent(u)"
   ]
  },
  {
   "cell_type": "code",
   "execution_count": 11,
   "metadata": {},
   "outputs": [],
   "source": [
    "def add_data(y):\n",
    "    y=open(\"data.txt\",'a')\n",
    "    y.write(\"\\n welcome to home\\n\")\n",
    "    y.close()\n",
    "y=\"data.txt\"\n",
    "add_data(y)"
   ]
  },
  {
   "cell_type": "code",
   "execution_count": 13,
   "metadata": {},
   "outputs": [
    {
     "name": "stdout",
     "output_type": "stream",
     "text": [
      "one more day to go\n",
      " welcome to home\n",
      "\n"
     ]
    }
   ],
   "source": [
    "def read_r(r):\n",
    "    r=open(\"data.txt\",'r')\n",
    "    print(r.read())\n",
    "r=\"data.txt\"\n",
    "read_r(r)"
   ]
  },
  {
   "cell_type": "code",
   "execution_count": 14,
   "metadata": {},
   "outputs": [
    {
     "name": "stdout",
     "output_type": "stream",
     "text": [
      "one more day to go\n",
      "\n"
     ]
    }
   ],
   "source": [
    "t=open(\"data.txt\",'r')\n",
    "u=t.readline()\n",
    "print(u)"
   ]
  },
  {
   "cell_type": "code",
   "execution_count": 27,
   "metadata": {},
   "outputs": [
    {
     "name": "stdout",
     "output_type": "stream",
     "text": [
      "one more day to go\n",
      " welcome to home\n"
     ]
    }
   ],
   "source": [
    "# acessing all content line by line\n",
    "def linebyline(t):\n",
    "    \n",
    "    t=open(\"data.txt\",'r')          #with open(\"data.txt\",'r') as t:\n",
    "    u=t.readlines()\n",
    "    for i in range(len(u)):\n",
    "        \n",
    "        print(u[i],end=\"\")\n",
    "        \n",
    "t=\"data.txt\"\n",
    "linebyline(t)"
   ]
  },
  {
   "cell_type": "code",
   "execution_count": 35,
   "metadata": {},
   "outputs": [
    {
     "name": "stdout",
     "output_type": "stream",
     "text": [
      "2\n"
     ]
    }
   ],
   "source": [
    "#Lines count\n",
    "#characters count \n",
    "# words count \n",
    "\n",
    "#####Lines count\n",
    "def ccwf(y):\n",
    "    count=0\n",
    "    with open(\"data.txt\",'r') as y:\n",
    "        u=y.readlines()\n",
    "        print(len(u))\n",
    "        #for i in range(len(u)):\n",
    "            #count=count+1\n",
    "        #print(count)\n",
    "y=\"data.txt\"  \n",
    "ccwf(y)\n",
    "            "
   ]
  },
  {
   "cell_type": "code",
   "execution_count": 36,
   "metadata": {},
   "outputs": [
    {
     "name": "stdout",
     "output_type": "stream",
     "text": [
      "36\n"
     ]
    }
   ],
   "source": [
    "#words count\n",
    "def chara(y):\n",
    "    count=0\n",
    "    with open(\"data.txt\",'r') as y:\n",
    "        u=y.read()\n",
    "        print(len(u))\n",
    "        #for i in range(len(u)):\n",
    "            #count=count+1\n",
    "    #print(count)\n",
    "y=\"data.txt\"  \n",
    "chara(y)\n",
    "            "
   ]
  },
  {
   "cell_type": "code",
   "execution_count": 34,
   "metadata": {},
   "outputs": [
    {
     "name": "stdout",
     "output_type": "stream",
     "text": [
      "8\n"
     ]
    }
   ],
   "source": [
    "# character count\n",
    "def chara(y):\n",
    "    count=0\n",
    "    with open(\"data.txt\",'r') as y:\n",
    "        u=(y.read()).split()\n",
    "        #u1=u.split()\n",
    "        #print(len(u1))\n",
    "        print(len(u))\n",
    "y=\"data.txt\"  \n",
    "chara(y)\n",
    "            "
   ]
  },
  {
   "cell_type": "code",
   "execution_count": null,
   "metadata": {},
   "outputs": [],
   "source": [
    "# reading the data (getting the data in middle) using "
   ]
  }
 ],
 "metadata": {
  "kernelspec": {
   "display_name": "Python 3",
   "language": "python",
   "name": "python3"
  },
  "language_info": {
   "codemirror_mode": {
    "name": "ipython",
    "version": 3
   },
   "file_extension": ".py",
   "mimetype": "text/x-python",
   "name": "python",
   "nbconvert_exporter": "python",
   "pygments_lexer": "ipython3",
   "version": "3.7.3"
  }
 },
 "nbformat": 4,
 "nbformat_minor": 2
}
