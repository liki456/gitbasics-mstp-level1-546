{
 "cells": [
  {
   "cell_type": "code",
   "execution_count": 3,
   "metadata": {},
   "outputs": [
    {
     "ename": "SyntaxError",
     "evalue": "invalid syntax (<ipython-input-3-78acdf7a458e>, line 3)",
     "output_type": "error",
     "traceback": [
      "\u001b[1;36m  File \u001b[1;32m\"<ipython-input-3-78acdf7a458e>\"\u001b[1;36m, line \u001b[1;32m3\u001b[0m\n\u001b[1;33m    with open(filename,'w') as h\u001b[0m\n\u001b[1;37m                                ^\u001b[0m\n\u001b[1;31mSyntaxError\u001b[0m\u001b[1;31m:\u001b[0m invalid syntax\n"
     ]
    }
   ],
   "source": [
    "filename=(\"file_operations.txt\")\n",
    "def creatingfile(g):\n",
    "    with open(filename,'w') as h\n",
    "    h.write()\n",
    "g=\"file_operation.txt\"\n",
    "creatingfile(g)"
   ]
  },
  {
   "cell_type": "code",
   "execution_count": 5,
   "metadata": {},
   "outputs": [],
   "source": [
    "filepath=\"file_operations.txt\"\n",
    "def filewrite(filepath,mode):\n",
    "    with open(filepath,'w') as f:\n",
    "        f.write(mode)\n",
    "        f.write(\"\\nnot interested \")\n",
    "filewrite(filepath,\"todays class\")"
   ]
  },
  {
   "cell_type": "code",
   "execution_count": 7,
   "metadata": {},
   "outputs": [
    {
     "name": "stdout",
     "output_type": "stream",
     "text": [
      "toda\n",
      "4\n",
      "1\n"
     ]
    }
   ],
   "source": [
    "f=open(\"file_operations.txt\",'r')\n",
    "f1=f.read(4)\n",
    "print(f1)\n",
    "print(f.tell())\n",
    "print(f.seek(1))\n",
    "f.close()"
   ]
  },
  {
   "cell_type": "code",
   "execution_count": 8,
   "metadata": {},
   "outputs": [
    {
     "data": {
      "text/plain": [
       "29"
      ]
     },
     "execution_count": 8,
     "metadata": {},
     "output_type": "execute_result"
    }
   ],
   "source": [
    "x=open(\"file_operations.txt\",'r')\n",
    "x.read()\n",
    "x.tell()"
   ]
  },
  {
   "cell_type": "code",
   "execution_count": 10,
   "metadata": {},
   "outputs": [
    {
     "name": "stdout",
     "output_type": "stream",
     "text": [
      "todays class\n",
      "not interested \n",
      "ays class\n",
      "not interested \n"
     ]
    }
   ],
   "source": [
    "x=open(\"file_operations.txt\",'r')\n",
    "print(x.read())\n",
    "x.seek(3)\n",
    "x.tell()\n",
    "print(x.read())"
   ]
  },
  {
   "cell_type": "code",
   "execution_count": 12,
   "metadata": {},
   "outputs": [
    {
     "name": "stdout",
     "output_type": "stream",
     "text": [
      "orld is good\n"
     ]
    }
   ],
   "source": [
    "filename=\"file_operations.txt\"\n",
    "def writeread(filepath):\n",
    "    with open(filepath,'w+') as f:\n",
    "        f.write(\"world is good\")\n",
    "        f.seek(1)\n",
    "        f1=f.read()\n",
    "        print(f1)\n",
    "writeread(filepath)"
   ]
  },
  {
   "cell_type": "code",
   "execution_count": 20,
   "metadata": {},
   "outputs": [
    {
     "name": "stdout",
     "output_type": "stream",
     "text": [
      "121\n"
     ]
    }
   ],
   "source": [
    "n=input()\n",
    "s=0\n",
    "n1=n\n",
    "while(n!=0):\n",
    "    try:\n",
    "        a=n%10\n",
    "        s=s*10+a\n",
    "        n=n//10\n",
    "    except:\n",
    "        break\n",
    "    if(n1==s):\n",
    "        print(\"palindrome\")\n",
    "    else:\n",
    "        print(\"not\")\n"
   ]
  },
  {
   "cell_type": "code",
   "execution_count": null,
   "metadata": {},
   "outputs": [],
   "source": [
    "\n"
   ]
  }
 ],
 "metadata": {
  "kernelspec": {
   "display_name": "Python 3",
   "language": "python",
   "name": "python3"
  },
  "language_info": {
   "codemirror_mode": {
    "name": "ipython",
    "version": 3
   },
   "file_extension": ".py",
   "mimetype": "text/x-python",
   "name": "python",
   "nbconvert_exporter": "python",
   "pygments_lexer": "ipython3",
   "version": "3.7.3"
  }
 },
 "nbformat": 4,
 "nbformat_minor": 2
}
