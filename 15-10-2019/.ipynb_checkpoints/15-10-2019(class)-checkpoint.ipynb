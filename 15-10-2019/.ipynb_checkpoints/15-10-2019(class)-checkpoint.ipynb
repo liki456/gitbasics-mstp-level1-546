{
 "cells": [
  {
   "cell_type": "markdown",
   "metadata": {},
   "source": [
    "creating a file with some matter"
   ]
  },
  {
   "cell_type": "code",
   "execution_count": 52,
   "metadata": {},
   "outputs": [],
   "source": [
    "filepath=\"content.txt\"\n",
    "def create(filepath):\n",
    "    with open(filepath,'w') as f:\n",
    "        f.write(\"hi\\n hello \\n hi \\n welcome to python\")\n",
    "create(filepath)"
   ]
  },
  {
   "cell_type": "code",
   "execution_count": 4,
   "metadata": {},
   "outputs": [
    {
     "name": "stdout",
     "output_type": "stream",
     "text": [
      "hi\n",
      " hello \n",
      " welcome to python\n"
     ]
    }
   ],
   "source": [
    "u=open(\"content.txt\",'r')\n",
    "f1=u.read()\n",
    "print(f1)\n",
    "u.close()\n"
   ]
  },
  {
   "cell_type": "code",
   "execution_count": 5,
   "metadata": {},
   "outputs": [
    {
     "name": "stdout",
     "output_type": "stream",
     "text": [
      "hi\n",
      " hello \n",
      " welcome to python\n"
     ]
    }
   ],
   "source": [
    "y=\"content.txt\"\n",
    "def readdata(y):\n",
    "    with open(y,'r') as f:\n",
    "        f1=f.read()\n",
    "        print(f1)\n",
    "readdata(y)"
   ]
  },
  {
   "cell_type": "code",
   "execution_count": 16,
   "metadata": {},
   "outputs": [],
   "source": [
    "filepath=\"studentsmarks.txt\"\n",
    "import random\n",
    "def creating(filepath,n):\n",
    "    with open(filepath,'w') as r:\n",
    "        for i in range(n):\n",
    "            \n",
    "            r.write(str(random.randint(1,100))+'\\n')\n",
    "    \n",
    "creating(filepath,50)"
   ]
  },
  {
   "cell_type": "code",
   "execution_count": null,
   "metadata": {},
   "outputs": [],
   "source": [
    "filepath=\"passfail.txt\"\n",
    "import random\n",
    "def creating(filepath,n):\n",
    "    with open(filepath,'w') as r:\n",
    "        for i in range(n):\n",
    "            \n",
    "            r.write(str(random.randint(1,100))+'\\n')\n",
    "    \n",
    "creating(filepath,50)"
   ]
  },
  {
   "cell_type": "markdown",
   "metadata": {},
   "source": [
    "### Method 1"
   ]
  },
  {
   "cell_type": "code",
   "execution_count": 40,
   "metadata": {},
   "outputs": [
    {
     "name": "stdout",
     "output_type": "stream",
     "text": [
      "57.99999999999999\n"
     ]
    }
   ],
   "source": [
    "filepath=\"studentsmarks.txt\"\n",
    "def classavg(filepath):\n",
    "    \n",
    "    c=0\n",
    "    with open(filepath,'r') as f:\n",
    "        f1=f.read()\n",
    "        l=f1.split()\n",
    "        for i in l:\n",
    "            if int(i)>=35:\n",
    "                c=c+int(1)\n",
    "        print((c/50)*100)\n",
    "            \n",
    "            \n",
    "classavg(filepath)\n",
    "        "
   ]
  },
  {
   "cell_type": "markdown",
   "metadata": {},
   "source": [
    "#### Method 2"
   ]
  },
  {
   "cell_type": "code",
   "execution_count": 41,
   "metadata": {},
   "outputs": [
    {
     "name": "stdout",
     "output_type": "stream",
     "text": [
      "57.99999999999999\n"
     ]
    }
   ],
   "source": [
    "filepath=\"studentsmarks.txt\"\n",
    "def classavg(filepath):\n",
    "    c=0\n",
    "    p=0\n",
    "    with open(filepath,'r') as f:\n",
    "        f1=f.read()\n",
    "        l=f1.split()\n",
    "        for i in l:\n",
    "            c+=1\n",
    "            if int(i)>=35:\n",
    "                p=p+int(1)\n",
    "        print((p/c)*100)\n",
    "            \n",
    "            \n",
    "classavg(filepath)\n",
    "        "
   ]
  },
  {
   "cell_type": "code",
   "execution_count": 25,
   "metadata": {},
   "outputs": [
    {
     "name": "stdout",
     "output_type": "stream",
     "text": [
      "44\n"
     ]
    }
   ],
   "source": [
    "filepath=\"studentsmarks.txt\"\n",
    "def classavg(filepath):\n",
    "    s=0\n",
    "    c=0\n",
    "    with open(filepath,'r') as f:\n",
    "        f1=f.read()\n",
    "        l=f1.split()\n",
    "        for i in l:\n",
    "        \n",
    "            s=s+int(i)\n",
    "            c=c+1\n",
    "        avg=s//c\n",
    "        print(avg)\n",
    "classavg(filepath)\n",
    "        "
   ]
  },
  {
   "cell_type": "code",
   "execution_count": 42,
   "metadata": {},
   "outputs": [
    {
     "name": "stdout",
     "output_type": "stream",
     "text": [
      "42.0\n"
     ]
    }
   ],
   "source": [
    "filepath=\"studentsmarks.txt\"\n",
    "def classavg(filepath):\n",
    "    c=0\n",
    "    p=0\n",
    "    with open(filepath,'r') as f:\n",
    "        f1=f.read()\n",
    "        l=f1.split()\n",
    "        for i in l:\n",
    "            c+=1\n",
    "            if int(i)<35:\n",
    "                p=p+int(1)\n",
    "        print((p/c)*100)\n",
    "            \n",
    "            \n",
    "classavg(filepath)\n",
    "        "
   ]
  },
  {
   "cell_type": "code",
   "execution_count": null,
   "metadata": {},
   "outputs": [],
   "source": []
  },
  {
   "cell_type": "code",
   "execution_count": 48,
   "metadata": {},
   "outputs": [
    {
     "name": "stdout",
     "output_type": "stream",
     "text": [
      "100\n"
     ]
    }
   ],
   "source": [
    "filepath=\"studentsmarks.txt\"\n",
    "def classavg(filepath):\n",
    "    c=0\n",
    "    \n",
    "    with open(filepath,'r') as f:\n",
    "        f1=f.read()\n",
    "        l=f1.split()\n",
    "        for i in l:\n",
    "            \n",
    "            if int(i)>=90:\n",
    "                print(i)\n",
    "            \n",
    "            \n",
    "classavg(filepath)\n",
    "        "
   ]
  },
  {
   "cell_type": "code",
   "execution_count": 50,
   "metadata": {},
   "outputs": [
    {
     "name": "stdout",
     "output_type": "stream",
     "text": [
      "8 1 3 11 4 8 14 1 11 4 13 13 12 15 "
     ]
    }
   ],
   "source": [
    "filepath=\"studentsmarks.txt\"\n",
    "def classavg(filepath):\n",
    "    c=0\n",
    "    \n",
    "    with open(filepath,'r') as f:\n",
    "        f1=f.read()\n",
    "        l=f1.split()\n",
    "        for i in l:\n",
    "            \n",
    "            if int(i)<20:\n",
    "                print(i,end=\" \")\n",
    "            \n",
    "            \n",
    "classavg(filepath)\n",
    "        "
   ]
  },
  {
   "cell_type": "code",
   "execution_count": 51,
   "metadata": {},
   "outputs": [],
   "source": [
    "#first class percentage\n",
    "#second class percentage\n",
    "#third class percentage"
   ]
  },
  {
   "cell_type": "code",
   "execution_count": 60,
   "metadata": {},
   "outputs": [
    {
     "name": "stdout",
     "output_type": "stream",
     "text": [
      "['hi', 'hello ', 'hi ', 'welcome to python']\n",
      "hi 1\n",
      "hello  1\n",
      "hi  1\n",
      "welcome to python 1\n"
     ]
    }
   ],
   "source": [
    "y=\"content.txt\"\n",
    "def frequencydata(y):\n",
    "    with open(y,'r') as f:\n",
    "        f1=f.read()\n",
    "        l=f1.split('\\n')\n",
    "        print(l)\n",
    "        for i in l:\n",
    "            print(i,l.count(i))\n",
    "frequencydata(y)"
   ]
  },
  {
   "cell_type": "code",
   "execution_count": 63,
   "metadata": {},
   "outputs": [
    {
     "name": "stdout",
     "output_type": "stream",
     "text": [
      "q : 1 a : 1 s : 1 r : 3 t : 4 y : 4 4 : 3 5 : 2 6 : 1 5 : 2 4 : 3 y : 4 t : 4   : 1 w : 2 e : 2 r : 3 t : 4 y : 4 4 : 3 2 : 1 y : 4 1 : 1 t : 4 h : 1 r : 3 g : 1 e : 2 f : 1 w : 2 d : 1 "
     ]
    }
   ],
   "source": [
    "s=\"qasrty45654yt werty42y1thrgefwd\"\n",
    "for i in s:\n",
    "    print(i,':',s.count(i),end=\" \")\n",
    "    "
   ]
  },
  {
   "cell_type": "code",
   "execution_count": 64,
   "metadata": {},
   "outputs": [
    {
     "name": "stdout",
     "output_type": "stream",
     "text": [
      "{'q': 1, 'a': 1, 's': 1, 'r': 3, 't': 4, 'y': 4, '4': 3, '5': 2, '6': 1, ' ': 1, 'w': 2, 'e': 2, '2': 1, '1': 1, 'h': 1, 'g': 1, 'f': 1, 'd': 1}\n"
     ]
    }
   ],
   "source": [
    "d={}\n",
    "s=\"qasrty45654yt werty42y1thrgefwd\"\n",
    "for i in s:\n",
    "    #print(i,':',s.count(i),end=\" \")\n",
    "    d[i]=s.count(i)\n",
    "print(d)\n",
    "    \n",
    "    "
   ]
  },
  {
   "cell_type": "code",
   "execution_count": 66,
   "metadata": {},
   "outputs": [
    {
     "name": "stdout",
     "output_type": "stream",
     "text": [
      "hi\n",
      "hello \n",
      "hi \n",
      "liki to python "
     ]
    }
   ],
   "source": [
    "#replace the data with new data\n",
    "filepath=\"content.txt\"\n",
    "def replace(filepath):\n",
    "    with open(filepath,'r') as f:\n",
    "        f1=f.read()\n",
    "        s=f1.replace(\"welcome\",\"liki\")\n",
    "    print(s,end=\" \")\n",
    "replace(filepath)"
   ]
  },
  {
   "cell_type": "code",
   "execution_count": null,
   "metadata": {},
   "outputs": [],
   "source": []
  }
 ],
 "metadata": {
  "kernelspec": {
   "display_name": "Python 3",
   "language": "python",
   "name": "python3"
  },
  "language_info": {
   "codemirror_mode": {
    "name": "ipython",
    "version": 3
   },
   "file_extension": ".py",
   "mimetype": "text/x-python",
   "name": "python",
   "nbconvert_exporter": "python",
   "pygments_lexer": "ipython3",
   "version": "3.7.3"
  }
 },
 "nbformat": 4,
 "nbformat_minor": 2
}
