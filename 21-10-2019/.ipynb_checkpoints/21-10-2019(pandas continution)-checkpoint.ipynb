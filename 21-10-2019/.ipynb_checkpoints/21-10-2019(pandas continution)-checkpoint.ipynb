{
 "cells": [
  {
   "cell_type": "code",
   "execution_count": 1,
   "metadata": {},
   "outputs": [
    {
     "data": {
      "text/html": [
       "<div>\n",
       "<style scoped>\n",
       "    .dataframe tbody tr th:only-of-type {\n",
       "        vertical-align: middle;\n",
       "    }\n",
       "\n",
       "    .dataframe tbody tr th {\n",
       "        vertical-align: top;\n",
       "    }\n",
       "\n",
       "    .dataframe thead th {\n",
       "        text-align: right;\n",
       "    }\n",
       "</style>\n",
       "<table border=\"1\" class=\"dataframe\">\n",
       "  <thead>\n",
       "    <tr style=\"text-align: right;\">\n",
       "      <th></th>\n",
       "      <th>GEOID</th>\n",
       "      <th>State</th>\n",
       "      <th>2005</th>\n",
       "      <th>2006</th>\n",
       "      <th>2007</th>\n",
       "      <th>2008</th>\n",
       "      <th>2009</th>\n",
       "      <th>2010</th>\n",
       "      <th>2011</th>\n",
       "      <th>2012</th>\n",
       "      <th>2013</th>\n",
       "    </tr>\n",
       "  </thead>\n",
       "  <tbody>\n",
       "    <tr>\n",
       "      <th>0</th>\n",
       "      <td>04000US01</td>\n",
       "      <td>Alabama</td>\n",
       "      <td>37150</td>\n",
       "      <td>37952</td>\n",
       "      <td>42212</td>\n",
       "      <td>44476</td>\n",
       "      <td>39980</td>\n",
       "      <td>40933</td>\n",
       "      <td>42590</td>\n",
       "      <td>43464</td>\n",
       "      <td>41381</td>\n",
       "    </tr>\n",
       "    <tr>\n",
       "      <th>1</th>\n",
       "      <td>04000US02</td>\n",
       "      <td>Alaska</td>\n",
       "      <td>55891</td>\n",
       "      <td>56418</td>\n",
       "      <td>62993</td>\n",
       "      <td>63989</td>\n",
       "      <td>61604</td>\n",
       "      <td>57848</td>\n",
       "      <td>57431</td>\n",
       "      <td>63648</td>\n",
       "      <td>61137</td>\n",
       "    </tr>\n",
       "    <tr>\n",
       "      <th>2</th>\n",
       "      <td>04000US04</td>\n",
       "      <td>Arizona</td>\n",
       "      <td>45245</td>\n",
       "      <td>46657</td>\n",
       "      <td>62993</td>\n",
       "      <td>46914</td>\n",
       "      <td>45739</td>\n",
       "      <td>46896</td>\n",
       "      <td>48621</td>\n",
       "      <td>47044</td>\n",
       "      <td>50602</td>\n",
       "    </tr>\n",
       "    <tr>\n",
       "      <th>3</th>\n",
       "      <td>04000US05</td>\n",
       "      <td>Arkansas</td>\n",
       "      <td>36658</td>\n",
       "      <td>37057</td>\n",
       "      <td>40795</td>\n",
       "      <td>39586</td>\n",
       "      <td>36538</td>\n",
       "      <td>38587</td>\n",
       "      <td>41302</td>\n",
       "      <td>39018</td>\n",
       "      <td>39919</td>\n",
       "    </tr>\n",
       "    <tr>\n",
       "      <th>4</th>\n",
       "      <td>04000US06</td>\n",
       "      <td>California</td>\n",
       "      <td>51755</td>\n",
       "      <td>55319</td>\n",
       "      <td>55734</td>\n",
       "      <td>57014</td>\n",
       "      <td>56134</td>\n",
       "      <td>54283</td>\n",
       "      <td>53367</td>\n",
       "      <td>57020</td>\n",
       "      <td>57528</td>\n",
       "    </tr>\n",
       "  </tbody>\n",
       "</table>\n",
       "</div>"
      ],
      "text/plain": [
       "       GEOID       State   2005   2006   2007   2008   2009   2010   2011  \\\n",
       "0  04000US01     Alabama  37150  37952  42212  44476  39980  40933  42590   \n",
       "1  04000US02      Alaska  55891  56418  62993  63989  61604  57848  57431   \n",
       "2  04000US04     Arizona  45245  46657  62993  46914  45739  46896  48621   \n",
       "3  04000US05    Arkansas  36658  37057  40795  39586  36538  38587  41302   \n",
       "4  04000US06  California  51755  55319  55734  57014  56134  54283  53367   \n",
       "\n",
       "    2012   2013  \n",
       "0  43464  41381  \n",
       "1  63648  61137  \n",
       "2  47044  50602  \n",
       "3  39018  39919  \n",
       "4  57020  57528  "
      ]
     },
     "execution_count": 1,
     "metadata": {},
     "output_type": "execute_result"
    }
   ],
   "source": [
    "import pandas as pd\n",
    "df=pd.read_csv(\"income.csv\")\n",
    "df"
   ]
  },
  {
   "cell_type": "code",
   "execution_count": 3,
   "metadata": {},
   "outputs": [
    {
     "name": "stdout",
     "output_type": "stream",
     "text": [
      "243311\n"
     ]
    }
   ],
   "source": [
    "# to find the sum of a particular column\n",
    "s=0\n",
    "for i in df[\"2011\"]:\n",
    "    s=s+i\n",
    "print(s)"
   ]
  },
  {
   "cell_type": "code",
   "execution_count": 4,
   "metadata": {},
   "outputs": [
    {
     "data": {
      "text/plain": [
       "GEOID    04000US02\n",
       "State       Alaska\n",
       "2005         55891\n",
       "2006         56418\n",
       "2007         62993\n",
       "2008         63989\n",
       "2009         61604\n",
       "2010         57848\n",
       "2011         57431\n",
       "2012         63648\n",
       "2013         61137\n",
       "Name: 1, dtype: object"
      ]
     },
     "execution_count": 4,
     "metadata": {},
     "output_type": "execute_result"
    }
   ],
   "source": [
    "# To find the sum of the particular row\n",
    "df.loc[1]"
   ]
  },
  {
   "cell_type": "code",
   "execution_count": 5,
   "metadata": {},
   "outputs": [
    {
     "data": {
      "text/plain": [
       "2005    55891\n",
       "2006    56418\n",
       "2007    62993\n",
       "2008    63989\n",
       "2009    61604\n",
       "2010    57848\n",
       "2011    57431\n",
       "2012    63648\n",
       "2013    61137\n",
       "Name: 1, dtype: object"
      ]
     },
     "execution_count": 5,
     "metadata": {},
     "output_type": "execute_result"
    }
   ],
   "source": [
    "df.iloc[1,2:]"
   ]
  },
  {
   "cell_type": "code",
   "execution_count": 7,
   "metadata": {},
   "outputs": [
    {
     "name": "stdout",
     "output_type": "stream",
     "text": [
      "540959\n"
     ]
    }
   ],
   "source": [
    "s=0\n",
    "for i in df.iloc[1,2:]:\n",
    "    s=s+i\n",
    "print(s)"
   ]
  },
  {
   "cell_type": "code",
   "execution_count": 9,
   "metadata": {},
   "outputs": [
    {
     "data": {
      "text/plain": [
       "239995"
      ]
     },
     "execution_count": 9,
     "metadata": {},
     "output_type": "execute_result"
    }
   ],
   "source": [
    "df[\"2009\"].sum()"
   ]
  },
  {
   "cell_type": "code",
   "execution_count": 10,
   "metadata": {},
   "outputs": [
    {
     "data": {
      "text/plain": [
       "498154"
      ]
     },
     "execution_count": 10,
     "metadata": {},
     "output_type": "execute_result"
    }
   ],
   "source": [
    "# 4th row and all columns\n",
    "df.iloc[4,2:].sum()"
   ]
  },
  {
   "cell_type": "code",
   "execution_count": 16,
   "metadata": {},
   "outputs": [
    {
     "data": {
      "text/plain": [
       "233403"
      ]
     },
     "execution_count": 16,
     "metadata": {},
     "output_type": "execute_result"
    }
   ],
   "source": [
    "df[\"2006\"].sum()"
   ]
  },
  {
   "cell_type": "code",
   "execution_count": 17,
   "metadata": {},
   "outputs": [
    {
     "data": {
      "text/plain": [
       "2005    226699\n",
       "2006    233403\n",
       "2007    264727\n",
       "2008    251979\n",
       "dtype: int64"
      ]
     },
     "execution_count": 17,
     "metadata": {},
     "output_type": "execute_result"
    }
   ],
   "source": [
    "df.iloc[:,2:6].sum()"
   ]
  },
  {
   "cell_type": "code",
   "execution_count": 20,
   "metadata": {},
   "outputs": [
    {
     "data": {
      "text/plain": [
       "976808"
      ]
     },
     "execution_count": 20,
     "metadata": {},
     "output_type": "execute_result"
    }
   ],
   "source": [
    "a=df.iloc[:,2:6].sum()\n",
    "a.sum()"
   ]
  },
  {
   "cell_type": "code",
   "execution_count": 25,
   "metadata": {},
   "outputs": [
    {
     "data": {
      "text/plain": [
       "2199422"
      ]
     },
     "execution_count": 25,
     "metadata": {},
     "output_type": "execute_result"
    }
   ],
   "source": [
    "a=df.iloc[:,2:11].sum()\n",
    "a.sum()"
   ]
  },
  {
   "cell_type": "code",
   "execution_count": 26,
   "metadata": {},
   "outputs": [
    {
     "data": {
      "text/plain": [
       "GEOID    04000US0104000US0204000US0404000US0504000US06\n",
       "State           AlabamaAlaskaArizonaArkansasCalifornia\n",
       "2005                                            226699\n",
       "2006                                            233403\n",
       "2007                                            264727\n",
       "2008                                            251979\n",
       "2009                                            239995\n",
       "2010                                            238547\n",
       "2011                                            243311\n",
       "2012                                            250194\n",
       "2013                                            250567\n",
       "dtype: object"
      ]
     },
     "execution_count": 26,
     "metadata": {},
     "output_type": "execute_result"
    }
   ],
   "source": [
    "df.sum()  #To find the total sum of individual columns\n",
    "\n",
    "\n"
   ]
  },
  {
   "cell_type": "code",
   "execution_count": 28,
   "metadata": {},
   "outputs": [
    {
     "data": {
      "text/plain": [
       "0    370138\n",
       "1    540959\n",
       "2    440711\n",
       "3    349460\n",
       "4    498154\n",
       "dtype: int64"
      ]
     },
     "execution_count": 28,
     "metadata": {},
     "output_type": "execute_result"
    }
   ],
   "source": [
    "df.sum(1)   #To find the total sum of individual rows"
   ]
  },
  {
   "cell_type": "code",
   "execution_count": 29,
   "metadata": {},
   "outputs": [
    {
     "data": {
      "text/plain": [
       "0   -6539681619962626048\n",
       "1   -7361322062891165696\n",
       "2   -5081084018388558592\n",
       "3    3972055575382497440\n",
       "4   -3135361311448388864\n",
       "dtype: int64"
      ]
     },
     "execution_count": 29,
     "metadata": {},
     "output_type": "execute_result"
    }
   ],
   "source": [
    "df.prod(1)    #to find the product"
   ]
  },
  {
   "cell_type": "code",
   "execution_count": 38,
   "metadata": {},
   "outputs": [
    {
     "data": {
      "text/plain": [
       "3892897880436685324"
      ]
     },
     "execution_count": 38,
     "metadata": {},
     "output_type": "execute_result"
    }
   ],
   "source": [
    "a=df.iloc[1:3,2:6].prod()    # To find the product sum\n",
    "a.prod()"
   ]
  },
  {
   "cell_type": "code",
   "execution_count": 44,
   "metadata": {},
   "outputs": [
    {
     "data": {
      "text/plain": [
       "48662.2"
      ]
     },
     "execution_count": 44,
     "metadata": {},
     "output_type": "execute_result"
    }
   ],
   "source": [
    "# Mean To find the average\n",
    "#Find the avg of 2011 column\n",
    "#Find the avg of 2nd Row \n",
    "df[\"2011\"].mean()\n"
   ]
  },
  {
   "cell_type": "code",
   "execution_count": 48,
   "metadata": {},
   "outputs": [
    {
     "data": {
      "text/plain": [
       "48967.88888888889"
      ]
     },
     "execution_count": 48,
     "metadata": {},
     "output_type": "execute_result"
    }
   ],
   "source": [
    "df.iloc[2,2:].mean()  # avg of 2nd row"
   ]
  },
  {
   "cell_type": "code",
   "execution_count": 49,
   "metadata": {},
   "outputs": [
    {
     "data": {
      "text/plain": [
       "48621.0"
      ]
     },
     "execution_count": 49,
     "metadata": {},
     "output_type": "execute_result"
    }
   ],
   "source": [
    "df[\"2011\"].median()"
   ]
  },
  {
   "cell_type": "code",
   "execution_count": 50,
   "metadata": {},
   "outputs": [
    {
     "data": {
      "text/plain": [
       "46914.0"
      ]
     },
     "execution_count": 50,
     "metadata": {},
     "output_type": "execute_result"
    }
   ],
   "source": [
    "df.iloc[2,2:].median()"
   ]
  },
  {
   "cell_type": "markdown",
   "metadata": {},
   "source": [
    "### Combined average income of all states"
   ]
  },
  {
   "cell_type": "code",
   "execution_count": 54,
   "metadata": {},
   "outputs": [
    {
     "data": {
      "text/plain": [
       "48876.044444444444"
      ]
     },
     "execution_count": 54,
     "metadata": {},
     "output_type": "execute_result"
    }
   ],
   "source": [
    "df.iloc[0:,2:].mean().mean() #2nd writing index values for columns"
   ]
  },
  {
   "cell_type": "markdown",
   "metadata": {},
   "source": [
    "### State with highest average income in the last three years"
   ]
  },
  {
   "cell_type": "code",
   "execution_count": 83,
   "metadata": {},
   "outputs": [
    {
     "data": {
      "text/plain": [
       "'Alaska'"
      ]
     },
     "execution_count": 83,
     "metadata": {},
     "output_type": "execute_result"
    }
   ],
   "source": [
    "import pandas as pd\n",
    "dc=pd.read_csv(\"income.csv\",index_col=\"State\")    #dc.index=df[\"state\"]\n",
    "\n",
    "dc.iloc[:,8:11].mean(1).idxmax()"
   ]
  },
  {
   "cell_type": "code",
   "execution_count": 100,
   "metadata": {},
   "outputs": [],
   "source": [
    "df.index=df[\"State\"]"
   ]
  },
  {
   "cell_type": "code",
   "execution_count": 84,
   "metadata": {},
   "outputs": [
    {
     "data": {
      "text/html": [
       "<div>\n",
       "<style scoped>\n",
       "    .dataframe tbody tr th:only-of-type {\n",
       "        vertical-align: middle;\n",
       "    }\n",
       "\n",
       "    .dataframe tbody tr th {\n",
       "        vertical-align: top;\n",
       "    }\n",
       "\n",
       "    .dataframe thead th {\n",
       "        text-align: right;\n",
       "    }\n",
       "</style>\n",
       "<table border=\"1\" class=\"dataframe\">\n",
       "  <thead>\n",
       "    <tr style=\"text-align: right;\">\n",
       "      <th></th>\n",
       "      <th>2011</th>\n",
       "      <th>2012</th>\n",
       "      <th>2013</th>\n",
       "    </tr>\n",
       "  </thead>\n",
       "  <tbody>\n",
       "    <tr>\n",
       "      <th>0</th>\n",
       "      <td>42590</td>\n",
       "      <td>43464</td>\n",
       "      <td>41381</td>\n",
       "    </tr>\n",
       "    <tr>\n",
       "      <th>1</th>\n",
       "      <td>57431</td>\n",
       "      <td>63648</td>\n",
       "      <td>61137</td>\n",
       "    </tr>\n",
       "    <tr>\n",
       "      <th>2</th>\n",
       "      <td>48621</td>\n",
       "      <td>47044</td>\n",
       "      <td>50602</td>\n",
       "    </tr>\n",
       "    <tr>\n",
       "      <th>3</th>\n",
       "      <td>41302</td>\n",
       "      <td>39018</td>\n",
       "      <td>39919</td>\n",
       "    </tr>\n",
       "    <tr>\n",
       "      <th>4</th>\n",
       "      <td>53367</td>\n",
       "      <td>57020</td>\n",
       "      <td>57528</td>\n",
       "    </tr>\n",
       "  </tbody>\n",
       "</table>\n",
       "</div>"
      ],
      "text/plain": [
       "    2011   2012   2013\n",
       "0  42590  43464  41381\n",
       "1  57431  63648  61137\n",
       "2  48621  47044  50602\n",
       "3  41302  39018  39919\n",
       "4  53367  57020  57528"
      ]
     },
     "execution_count": 84,
     "metadata": {},
     "output_type": "execute_result"
    }
   ],
   "source": [
    "df.iloc[:,-3:] #values of last three years"
   ]
  },
  {
   "cell_type": "code",
   "execution_count": 102,
   "metadata": {},
   "outputs": [
    {
     "data": {
      "text/plain": [
       "'Alaska'"
      ]
     },
     "execution_count": 102,
     "metadata": {},
     "output_type": "execute_result"
    }
   ],
   "source": [
    "df.iloc[:,-3:].mean(1).idxmax()\n",
    "                    "
   ]
  },
  {
   "cell_type": "code",
   "execution_count": 90,
   "metadata": {},
   "outputs": [
    {
     "data": {
      "text/plain": [
       "0    42478.333333\n",
       "1    60738.666667\n",
       "2    48755.666667\n",
       "3    40079.666667\n",
       "4    55971.666667\n",
       "dtype: float64"
      ]
     },
     "execution_count": 90,
     "metadata": {},
     "output_type": "execute_result"
    }
   ],
   "source": [
    "df.iloc[:,-3:].mean(1)  \n",
    "                    #row wise avg of last three years"
   ]
  },
  {
   "cell_type": "code",
   "execution_count": 93,
   "metadata": {},
   "outputs": [
    {
     "data": {
      "text/html": [
       "<div>\n",
       "<style scoped>\n",
       "    .dataframe tbody tr th:only-of-type {\n",
       "        vertical-align: middle;\n",
       "    }\n",
       "\n",
       "    .dataframe tbody tr th {\n",
       "        vertical-align: top;\n",
       "    }\n",
       "\n",
       "    .dataframe thead th {\n",
       "        text-align: right;\n",
       "    }\n",
       "</style>\n",
       "<table border=\"1\" class=\"dataframe\">\n",
       "  <thead>\n",
       "    <tr style=\"text-align: right;\">\n",
       "      <th></th>\n",
       "      <th>GEOID</th>\n",
       "      <th>State</th>\n",
       "      <th>2005</th>\n",
       "      <th>2006</th>\n",
       "      <th>2007</th>\n",
       "      <th>2008</th>\n",
       "      <th>2009</th>\n",
       "      <th>2010</th>\n",
       "      <th>2011</th>\n",
       "      <th>2012</th>\n",
       "      <th>2013</th>\n",
       "      <th>last three years avg</th>\n",
       "    </tr>\n",
       "  </thead>\n",
       "  <tbody>\n",
       "    <tr>\n",
       "      <th>0</th>\n",
       "      <td>04000US01</td>\n",
       "      <td>Alabama</td>\n",
       "      <td>37150</td>\n",
       "      <td>37952</td>\n",
       "      <td>42212</td>\n",
       "      <td>44476</td>\n",
       "      <td>39980</td>\n",
       "      <td>40933</td>\n",
       "      <td>42590</td>\n",
       "      <td>43464</td>\n",
       "      <td>41381</td>\n",
       "      <td>42441.111111</td>\n",
       "    </tr>\n",
       "    <tr>\n",
       "      <th>1</th>\n",
       "      <td>04000US02</td>\n",
       "      <td>Alaska</td>\n",
       "      <td>55891</td>\n",
       "      <td>56418</td>\n",
       "      <td>62993</td>\n",
       "      <td>63989</td>\n",
       "      <td>61604</td>\n",
       "      <td>57848</td>\n",
       "      <td>57431</td>\n",
       "      <td>63648</td>\n",
       "      <td>61137</td>\n",
       "      <td>61841.222222</td>\n",
       "    </tr>\n",
       "    <tr>\n",
       "      <th>2</th>\n",
       "      <td>04000US04</td>\n",
       "      <td>Arizona</td>\n",
       "      <td>45245</td>\n",
       "      <td>46657</td>\n",
       "      <td>62993</td>\n",
       "      <td>46914</td>\n",
       "      <td>45739</td>\n",
       "      <td>46896</td>\n",
       "      <td>48621</td>\n",
       "      <td>47044</td>\n",
       "      <td>50602</td>\n",
       "      <td>48800.555556</td>\n",
       "    </tr>\n",
       "    <tr>\n",
       "      <th>3</th>\n",
       "      <td>04000US05</td>\n",
       "      <td>Arkansas</td>\n",
       "      <td>36658</td>\n",
       "      <td>37057</td>\n",
       "      <td>40795</td>\n",
       "      <td>39586</td>\n",
       "      <td>36538</td>\n",
       "      <td>38587</td>\n",
       "      <td>41302</td>\n",
       "      <td>39018</td>\n",
       "      <td>39919</td>\n",
       "      <td>39672.222222</td>\n",
       "    </tr>\n",
       "    <tr>\n",
       "      <th>4</th>\n",
       "      <td>04000US06</td>\n",
       "      <td>California</td>\n",
       "      <td>51755</td>\n",
       "      <td>55319</td>\n",
       "      <td>55734</td>\n",
       "      <td>57014</td>\n",
       "      <td>56134</td>\n",
       "      <td>54283</td>\n",
       "      <td>53367</td>\n",
       "      <td>57020</td>\n",
       "      <td>57528</td>\n",
       "      <td>56839.888889</td>\n",
       "    </tr>\n",
       "  </tbody>\n",
       "</table>\n",
       "</div>"
      ],
      "text/plain": [
       "       GEOID       State   2005   2006   2007   2008   2009   2010   2011  \\\n",
       "0  04000US01     Alabama  37150  37952  42212  44476  39980  40933  42590   \n",
       "1  04000US02      Alaska  55891  56418  62993  63989  61604  57848  57431   \n",
       "2  04000US04     Arizona  45245  46657  62993  46914  45739  46896  48621   \n",
       "3  04000US05    Arkansas  36658  37057  40795  39586  36538  38587  41302   \n",
       "4  04000US06  California  51755  55319  55734  57014  56134  54283  53367   \n",
       "\n",
       "    2012   2013  last three years avg  \n",
       "0  43464  41381          42441.111111  \n",
       "1  63648  61137          61841.222222  \n",
       "2  47044  50602          48800.555556  \n",
       "3  39018  39919          39672.222222  \n",
       "4  57020  57528          56839.888889  "
      ]
     },
     "execution_count": 93,
     "metadata": {},
     "output_type": "execute_result"
    }
   ],
   "source": [
    "df[\"last three years avg\"]=df.iloc[:,-3:].mean(1)  \n",
    "df"
   ]
  },
  {
   "cell_type": "code",
   "execution_count": 95,
   "metadata": {},
   "outputs": [
    {
     "data": {
      "text/plain": [
       "0    False\n",
       "1     True\n",
       "2    False\n",
       "3    False\n",
       "4    False\n",
       "Name: last three years avg, dtype: bool"
      ]
     },
     "execution_count": 95,
     "metadata": {},
     "output_type": "execute_result"
    }
   ],
   "source": [
    "df[\"last three years avg\"]==max(df[\"last three years avg\"])  #boolean masking"
   ]
  },
  {
   "cell_type": "code",
   "execution_count": 101,
   "metadata": {},
   "outputs": [
    {
     "data": {
      "text/plain": [
       "'Alaska'"
      ]
     },
     "execution_count": 101,
     "metadata": {},
     "output_type": "execute_result"
    }
   ],
   "source": [
    "df[df[\"last three years avg\"]==max(df[\"last three years avg\"])].index[0]  #boolean masking"
   ]
  },
  {
   "cell_type": "markdown",
   "metadata": {},
   "source": [
    "### State with lowest average income from 2007 to 2010(inclusive)"
   ]
  },
  {
   "cell_type": "code",
   "execution_count": 78,
   "metadata": {},
   "outputs": [
    {
     "data": {
      "text/plain": [
       "'Arkansas'"
      ]
     },
     "execution_count": 78,
     "metadata": {},
     "output_type": "execute_result"
    }
   ],
   "source": [
    "dc.iloc[:,4:8].mean(1).idxmin()"
   ]
  },
  {
   "cell_type": "markdown",
   "metadata": {},
   "source": [
    "\n",
    "### Print the list of all states in the same line with average income less than California"
   ]
  },
  {
   "cell_type": "code",
   "execution_count": 107,
   "metadata": {},
   "outputs": [
    {
     "data": {
      "text/plain": [
       "State\n",
       "Alabama       41257.911111\n",
       "Alaska        60280.022222\n",
       "Arizona       48951.155556\n",
       "Arkansas      38913.222222\n",
       "California    55499.388889\n",
       "dtype: float64"
      ]
     },
     "execution_count": 107,
     "metadata": {},
     "output_type": "execute_result"
    }
   ],
   "source": [
    "a=df.iloc[:,2:].mean(1)\n",
    "a"
   ]
  },
  {
   "cell_type": "code",
   "execution_count": 105,
   "metadata": {},
   "outputs": [
    {
     "data": {
      "text/plain": [
       "55499.38888888889"
      ]
     },
     "execution_count": 105,
     "metadata": {},
     "output_type": "execute_result"
    }
   ],
   "source": [
    "# a.iloc[-1]"
   ]
  },
  {
   "cell_type": "code",
   "execution_count": 108,
   "metadata": {},
   "outputs": [
    {
     "data": {
      "text/plain": [
       "55499.38888888889"
      ]
     },
     "execution_count": 108,
     "metadata": {},
     "output_type": "execute_result"
    }
   ],
   "source": [
    "calavg=df.iloc[-1,2:].mean()\n",
    "calavg"
   ]
  },
  {
   "cell_type": "code",
   "execution_count": 110,
   "metadata": {},
   "outputs": [
    {
     "data": {
      "text/plain": [
       "['Alabama', 'Arizona', 'Arkansas']"
      ]
     },
     "execution_count": 110,
     "metadata": {},
     "output_type": "execute_result"
    }
   ],
   "source": [
    "df[df.iloc[:,2:].mean(1)<calavg].index\n",
    "list(df[df.iloc[:,2:].mean(1)<calavg].index)"
   ]
  },
  {
   "cell_type": "markdown",
   "metadata": {},
   "source": [
    " ### Print the names of states based on descending order of income in the year 2009\n",
    "\n"
   ]
  },
  {
   "cell_type": "code",
   "execution_count": 117,
   "metadata": {},
   "outputs": [
    {
     "data": {
      "text/plain": [
       "State\n",
       "Alabama       39980\n",
       "Alaska        61604\n",
       "Arizona       45739\n",
       "Arkansas      36538\n",
       "California    56134\n",
       "Name: 2009, dtype: int64"
      ]
     },
     "execution_count": 117,
     "metadata": {},
     "output_type": "execute_result"
    }
   ],
   "source": [
    "w=df[\"2009\"] \n",
    "w                 #df.iloc[:,6]"
   ]
  },
  {
   "cell_type": "code",
   "execution_count": 116,
   "metadata": {},
   "outputs": [
    {
     "data": {
      "text/plain": [
       "State\n",
       "Alaska        61604\n",
       "California    56134\n",
       "Arizona       45739\n",
       "Alabama       39980\n",
       "Arkansas      36538\n",
       "Name: 2009, dtype: int64"
      ]
     },
     "execution_count": 116,
     "metadata": {},
     "output_type": "execute_result"
    }
   ],
   "source": [
    "b=w.sort_values(ascending=False)\n",
    "b"
   ]
  },
  {
   "cell_type": "code",
   "execution_count": 119,
   "metadata": {},
   "outputs": [
    {
     "data": {
      "text/plain": [
       "['Alaska', 'California', 'Arizona', 'Alabama', 'Arkansas']"
      ]
     },
     "execution_count": 119,
     "metadata": {},
     "output_type": "execute_result"
    }
   ],
   "source": [
    "list(b.index)"
   ]
  },
  {
   "cell_type": "markdown",
   "metadata": {},
   "source": [
    "\n",
    "### State with the lowest recorded income from 2005 to 2013'''"
   ]
  },
  {
   "cell_type": "code",
   "execution_count": 128,
   "metadata": {},
   "outputs": [
    {
     "data": {
      "text/plain": [
       "2005    Arkansas\n",
       "2006    Arkansas\n",
       "2007    Arkansas\n",
       "2008    Arkansas\n",
       "2009    Arkansas\n",
       "2010    Arkansas\n",
       "2011    Arkansas\n",
       "2012    Arkansas\n",
       "2013    Arkansas\n",
       "dtype: object"
      ]
     },
     "execution_count": 128,
     "metadata": {},
     "output_type": "execute_result"
    }
   ],
   "source": [
    "df.iloc[:,2:11].idxmin()"
   ]
  },
  {
   "cell_type": "code",
   "execution_count": 79,
   "metadata": {},
   "outputs": [
    {
     "data": {
      "text/plain": [
       "2005    45339.8\n",
       "2006    46680.6\n",
       "2007    52945.4\n",
       "2008    50395.8\n",
       "2009    47999.0\n",
       "2010    47709.4\n",
       "2011    48662.2\n",
       "2012    50038.8\n",
       "2013    50113.4\n",
       "dtype: float64"
      ]
     },
     "execution_count": 79,
     "metadata": {},
     "output_type": "execute_result"
    }
   ],
   "source": [
    "df.iloc[0:,2:].mean()   #colunm wise avg"
   ]
  },
  {
   "cell_type": "code",
   "execution_count": 82,
   "metadata": {},
   "outputs": [
    {
     "data": {
      "text/plain": [
       "0    41126.444444\n",
       "1    60106.555556\n",
       "2    48967.888889\n",
       "3    38828.888889\n",
       "4    55350.444444\n",
       "dtype: float64"
      ]
     },
     "execution_count": 82,
     "metadata": {},
     "output_type": "execute_result"
    }
   ],
   "source": [
    "df.iloc[:,2:].mean(1)    #Row wise avg  \n",
    "                         #if we use 1 in mean paranthesis we get row wise avg"
   ]
  },
  {
   "cell_type": "code",
   "execution_count": null,
   "metadata": {},
   "outputs": [],
   "source": []
  }
 ],
 "metadata": {
  "kernelspec": {
   "display_name": "Python 3",
   "language": "python",
   "name": "python3"
  },
  "language_info": {
   "codemirror_mode": {
    "name": "ipython",
    "version": 3
   },
   "file_extension": ".py",
   "mimetype": "text/x-python",
   "name": "python",
   "nbconvert_exporter": "python",
   "pygments_lexer": "ipython3",
   "version": "3.7.3"
  }
 },
 "nbformat": 4,
 "nbformat_minor": 2
}
