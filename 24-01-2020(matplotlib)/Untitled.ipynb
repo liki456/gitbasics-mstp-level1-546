{
 "cells": [
  {
   "cell_type": "code",
   "execution_count": 2,
   "metadata": {},
   "outputs": [],
   "source": [
    "#creating subplots\n",
    "import matplotlib.pyplot as plt\n",
    "import matplotlib"
   ]
  },
  {
   "cell_type": "code",
   "execution_count": 3,
   "metadata": {},
   "outputs": [
    {
     "name": "stdout",
     "output_type": "stream",
     "text": [
      "Help on function subplot in module matplotlib.pyplot:\n",
      "\n",
      "subplot(*args, **kwargs)\n",
      "    Add a subplot to the current figure.\n",
      "    \n",
      "    Wrapper of `.Figure.add_subplot` with a difference in behavior\n",
      "    explained in the notes section.\n",
      "    \n",
      "    Call signatures::\n",
      "    \n",
      "       subplot(nrows, ncols, index, **kwargs)\n",
      "       subplot(pos, **kwargs)\n",
      "       subplot(ax)\n",
      "    \n",
      "    Parameters\n",
      "    ----------\n",
      "    *args\n",
      "        Either a 3-digit integer or three separate integers\n",
      "        describing the position of the subplot. If the three\n",
      "        integers are *nrows*, *ncols*, and *index* in order, the\n",
      "        subplot will take the *index* position on a grid with *nrows*\n",
      "        rows and *ncols* columns. *index* starts at 1 in the upper left\n",
      "        corner and increases to the right.\n",
      "    \n",
      "        *pos* is a three digit integer, where the first digit is the\n",
      "        number of rows, the second the number of columns, and the third\n",
      "        the index of the subplot. i.e. fig.add_subplot(235) is the same as\n",
      "        fig.add_subplot(2, 3, 5). Note that all integers must be less than\n",
      "        10 for this form to work.\n",
      "    \n",
      "    projection : {None, 'aitoff', 'hammer', 'lambert', 'mollweide', 'polar', 'rectilinear', str}, optional\n",
      "        The projection type of the subplot (`~.axes.Axes`). *str* is the name\n",
      "        of a costum projection, see `~matplotlib.projections`. The default\n",
      "        None results in a 'rectilinear' projection.\n",
      "    \n",
      "    polar : boolean, optional\n",
      "        If True, equivalent to projection='polar'.\n",
      "    \n",
      "    sharex, sharey : `~.axes.Axes`, optional\n",
      "        Share the x or y `~matplotlib.axis` with sharex and/or sharey. The\n",
      "        axis will have the same limits, ticks, and scale as the axis of the\n",
      "        shared axes.\n",
      "    \n",
      "    label : str\n",
      "        A label for the returned axes.\n",
      "    \n",
      "    Other Parameters\n",
      "    ----------------\n",
      "    **kwargs\n",
      "        This method also takes the keyword arguments for\n",
      "        the returned axes base class. The keyword arguments for the\n",
      "        rectilinear base class `~.axes.Axes` can be found in\n",
      "        the following table but there might also be other keyword\n",
      "        arguments if another projection is used.\n",
      "          adjustable: {'box', 'datalim'}\n",
      "      agg_filter: a filter function, which takes a (m, n, 3) float array and a dpi value, and returns a (m, n, 3) array\n",
      "      alpha: float\n",
      "      anchor: 2-tuple of floats or {'C', 'SW', 'S', 'SE', ...}\n",
      "      animated: bool\n",
      "      aspect: {'auto', 'equal'} or num\n",
      "      autoscale_on: bool\n",
      "      autoscalex_on: bool\n",
      "      autoscaley_on: bool\n",
      "      axes_locator: Callable[[Axes, Renderer], Bbox]\n",
      "      axisbelow: bool or 'line'\n",
      "      clip_box: `.Bbox`\n",
      "      clip_on: bool\n",
      "      clip_path: [(`~matplotlib.path.Path`, `.Transform`) | `.Patch` | None]\n",
      "      contains: callable\n",
      "      facecolor: color\n",
      "      fc: color\n",
      "      figure: `.Figure`\n",
      "      frame_on: bool\n",
      "      gid: str\n",
      "      in_layout: bool\n",
      "      label: object\n",
      "      navigate: bool\n",
      "      navigate_mode: unknown\n",
      "      path_effects: `.AbstractPathEffect`\n",
      "      picker: None or bool or float or callable\n",
      "      position: [left, bottom, width, height] or `~matplotlib.transforms.Bbox`\n",
      "      rasterization_zorder: float or None\n",
      "      rasterized: bool or None\n",
      "      sketch_params: (scale: float, length: float, randomness: float)\n",
      "      snap: bool or None\n",
      "      title: str\n",
      "      transform: `.Transform`\n",
      "      url: str\n",
      "      visible: bool\n",
      "      xbound: unknown\n",
      "      xlabel: str\n",
      "      xlim: (left: float, right: float)\n",
      "      xmargin: float greater than -0.5\n",
      "      xscale: {\"linear\", \"log\", \"symlog\", \"logit\", ...}\n",
      "      xticklabels: List[str]\n",
      "      xticks: list\n",
      "      ybound: unknown\n",
      "      ylabel: str\n",
      "      ylim: (bottom: float, top: float)\n",
      "      ymargin: float greater than -0.5\n",
      "      yscale: {\"linear\", \"log\", \"symlog\", \"logit\", ...}\n",
      "      yticklabels: List[str]\n",
      "      yticks: list\n",
      "      zorder: float\n",
      "    \n",
      "    Returns\n",
      "    -------\n",
      "    axes : an `.axes.SubplotBase` subclass of `~.axes.Axes` (or a subclass     of `~.axes.Axes`)\n",
      "    \n",
      "        The axes of the subplot. The returned axes base class depends on\n",
      "        the projection used. It is `~.axes.Axes` if rectilinear projection\n",
      "        are used and `.projections.polar.PolarAxes` if polar projection\n",
      "        are used. The returned axes is then a subplot subclass of the\n",
      "        base class.\n",
      "    \n",
      "    Notes\n",
      "    -----\n",
      "    Creating a subplot will delete any pre-existing subplot that overlaps\n",
      "    with it beyond sharing a boundary::\n",
      "    \n",
      "        import matplotlib.pyplot as plt\n",
      "        # plot a line, implicitly creating a subplot(111)\n",
      "        plt.plot([1,2,3])\n",
      "        # now create a subplot which represents the top plot of a grid\n",
      "        # with 2 rows and 1 column. Since this subplot will overlap the\n",
      "        # first, the plot (and its axes) previously created, will be removed\n",
      "        plt.subplot(211)\n",
      "    \n",
      "    If you do not want this behavior, use the `.Figure.add_subplot` method\n",
      "    or the `.pyplot.axes` function instead.\n",
      "    \n",
      "    If the figure already has a subplot with key (*args*,\n",
      "    *kwargs*) then it will simply make that subplot current and\n",
      "    return it.  This behavior is deprecated. Meanwhile, if you do\n",
      "    not want this behavior (i.e., you want to force the creation of a\n",
      "    new subplot), you must use a unique set of args and kwargs.  The axes\n",
      "    *label* attribute has been exposed for this purpose: if you want\n",
      "    two subplots that are otherwise identical to be added to the figure,\n",
      "    make sure you give them unique labels.\n",
      "    \n",
      "    In rare circumstances, `.add_subplot` may be called with a single\n",
      "    argument, a subplot axes instance already created in the\n",
      "    present figure but not in the figure's list of axes.\n",
      "    \n",
      "    See Also\n",
      "    --------\n",
      "    .Figure.add_subplot\n",
      "    .pyplot.subplots\n",
      "    .pyplot.axes\n",
      "    .Figure.subplots\n",
      "    \n",
      "    Examples\n",
      "    --------\n",
      "    ::\n",
      "    \n",
      "        plt.subplot(221)\n",
      "    \n",
      "        # equivalent but more general\n",
      "        ax1=plt.subplot(2, 2, 1)\n",
      "    \n",
      "        # add a subplot with no frame\n",
      "        ax2=plt.subplot(222, frameon=False)\n",
      "    \n",
      "        # add a polar subplot\n",
      "        plt.subplot(223, projection='polar')\n",
      "    \n",
      "        # add a red subplot that shares the x-axis with ax1\n",
      "        plt.subplot(224, sharex=ax1, facecolor='red')\n",
      "    \n",
      "        # delete ax2 from the figure\n",
      "        plt.delaxes(ax2)\n",
      "    \n",
      "        # add ax2 to the figure again\n",
      "        plt.subplot(ax2)\n",
      "\n"
     ]
    }
   ],
   "source": [
    "help(plt.subplot)"
   ]
  },
  {
   "cell_type": "code",
   "execution_count": 4,
   "metadata": {},
   "outputs": [
    {
     "data": {
      "text/plain": [
       "<matplotlib.axes._subplots.AxesSubplot at 0x27c34f4e240>"
      ]
     },
     "execution_count": 4,
     "metadata": {},
     "output_type": "execute_result"
    },
    {
     "data": {
      "image/png": "[encoded data removed]",
      "text/plain": [
       "<Figure size 432x288 with 1 Axes>"
      ]
     },
     "metadata": {
      "needs_background": "light"
     },
     "output_type": "display_data"
    }
   ],
   "source": [
    "plt.subplot(2,2,1)"
   ]
  },
  {
   "cell_type": "code",
   "execution_count": 5,
   "metadata": {
    "scrolled": true
   },
   "outputs": [
    {
     "data": {
      "text/plain": [
       "<matplotlib.axes._subplots.AxesSubplot at 0x27c3524a8d0>"
      ]
     },
     "execution_count": 5,
     "metadata": {},
     "output_type": "execute_result"
    },
    {
     "data": {
      "image/png": "[encoded data removed]",
      "text/plain": [
       "<Figure size 432x288 with 1 Axes>"
      ]
     },
     "metadata": {
      "needs_background": "light"
     },
     "output_type": "display_data"
    }
   ],
   "source": [
    "plt.subplot(221)"
   ]
  },
  {
   "cell_type": "code",
   "execution_count": 11,
   "metadata": {},
   "outputs": [
    {
     "data": {
      "text/plain": [
       "Text(0.5, 1.0, 'grapg')"
      ]
     },
     "execution_count": 11,
     "metadata": {},
     "output_type": "execute_result"
    },
    {
     "data": {
      "image/png": "[encoded data removed]",
      "text/plain": [
       "<Figure size 432x288 with 1 Axes>"
      ]
     },
     "metadata": {
      "needs_background": "light"
     },
     "output_type": "display_data"
    }
   ],
   "source": [
    "#creating subplots using numpy with sine\n",
    "import numpy as np\n",
    "t=np.arange(0.0,0.5,0.1)\n",
    "s=np.sin(2*np.pi*t)\n",
    "plt.subplot(2,2,3)\n",
    "plt.plot(t,s)\n",
    "plt.xlabel(\"t\")\n",
    "plt.ylabel(\"s\")\n",
    "plt.title(\"grapg\")"
   ]
  },
  {
   "cell_type": "code",
   "execution_count": 12,
   "metadata": {},
   "outputs": [
    {
     "data": {
      "image/png": "[encoded data removed]",
      "text/plain": [
       "<Figure size 432x288 with 1 Axes>"
      ]
     },
     "metadata": {
      "needs_background": "light"
     },
     "output_type": "display_data"
    }
   ],
   "source": [
    "\n",
    "import numpy as np\n",
    "t=np.arange(0.0,0.5,0.1)\n",
    "s=np.sin(2*np.pi*t)\n",
    "plt.subplot(2,2,3)\n",
    "plt.plot(t,s,'rx',label=\"graph wth sine wave\")\n",
    "plt.xlabel(\"t\")\n",
    "plt.ylabel(\"s\")\n",
    "plt.title(\"grapg\")\n",
    "plt.legend()\n",
    "plt.show()"
   ]
  },
  {
   "cell_type": "code",
   "execution_count": null,
   "metadata": {},
   "outputs": [],
   "source": [
    "\n",
    "import numpy as np\n",
    "t=np.arange(0.0,0.5,0.1)\n",
    "s=np.sin(2*np.pi*t)\n",
    "plt.subplot(2,2,3)\n",
    "plt.plot(t,s,'rx',label=\"graph wth sine wave\")\n",
    "plt.xlabel(\"t\")\n",
    "plt.ylabel(\"s\")\n",
    "plt.title(\"grapg\")\n",
    "plt.legend()\n",
    "plt.show()"
   ]
  }
 ],
 "metadata": {
  "kernelspec": {
   "display_name": "Python 3",
   "language": "python",
   "name": "python3"
  },
  "language_info": {
   "codemirror_mode": {
    "name": "ipython",
    "version": 3
   },
   "file_extension": ".py",
   "mimetype": "text/x-python",
   "name": "python",
   "nbconvert_exporter": "python",
   "pygments_lexer": "ipython3",
   "version": "3.7.3"
  }
 },
 "nbformat": 4,
 "nbformat_minor": 2
}
