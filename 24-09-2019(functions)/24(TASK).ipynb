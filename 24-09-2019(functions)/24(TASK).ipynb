{
 "cells": [
  {
   "cell_type": "markdown",
   "metadata": {},
   "source": [
    "* check if the number exist in a given range(inputs:number(n),range(lower number and upper number)"
   ]
  },
  {
   "cell_type": "code",
   "execution_count": 2,
   "metadata": {},
   "outputs": [
    {
     "name": "stdout",
     "output_type": "stream",
     "text": [
      "5\n",
      "10\n",
      "7\n",
      "true\n"
     ]
    }
   ],
   "source": [
    "def range(lb,ub,n):\n",
    "    if (lb<n<ub):\n",
    "        print(\"true\")\n",
    "    else:\n",
    "        print(\"false\")\n",
    "    \n",
    "lb=int(input())\n",
    "ub=int(input())\n",
    "n=int(input())\n",
    "range(lb,ub,n)\n",
    "    "
   ]
  },
  {
   "cell_type": "markdown",
   "metadata": {},
   "source": [
    "* check the number of digits in given number "
   ]
  },
  {
   "cell_type": "code",
   "execution_count": 2,
   "metadata": {},
   "outputs": [
    {
     "name": "stdout",
     "output_type": "stream",
     "text": [
      "2756728\n",
      "7\n"
     ]
    }
   ],
   "source": [
    "def checking(q):\n",
    "    r=len(q)\n",
    "    print(r)\n",
    "q=input()\n",
    "checking(q)"
   ]
  },
  {
   "cell_type": "markdown",
   "metadata": {},
   "source": [
    "* 3.check if the given number is factor of 1000"
   ]
  },
  {
   "cell_type": "code",
   "execution_count": 2,
   "metadata": {},
   "outputs": [
    {
     "name": "stdout",
     "output_type": "stream",
     "text": [
      "5\n",
      "yes\n"
     ]
    }
   ],
   "source": [
    "def factor(i):\n",
    "    if((1000%i)==0):\n",
    "        print(\"yes\")\n",
    "    else:\n",
    "        print(\"no\")\n",
    "i=int(input())\n",
    "factor(i)"
   ]
  },
  {
   "cell_type": "markdown",
   "metadata": {},
   "source": [
    "* 4.calculate the square root of a given number"
   ]
  },
  {
   "cell_type": "code",
   "execution_count": 4,
   "metadata": {},
   "outputs": [
    {
     "name": "stdout",
     "output_type": "stream",
     "text": [
      "7\n",
      "2.6457513110645907\n"
     ]
    }
   ],
   "source": [
    " def square(n):\n",
    "        print(n**(1/2))\n",
    "n=int(input())\n",
    "square(n)"
   ]
  },
  {
   "cell_type": "markdown",
   "metadata": {},
   "source": [
    "* 5.python program to take values of length and breadth of a rectangle from the user and check if it is square or not"
   ]
  },
  {
   "cell_type": "code",
   "execution_count": 6,
   "metadata": {},
   "outputs": [
    {
     "name": "stdout",
     "output_type": "stream",
     "text": [
      "6\n",
      "6\n",
      "square\n"
     ]
    }
   ],
   "source": [
    "def rectangle(l,b):\n",
    "    if(l==b):\n",
    "        print(\"square\")\n",
    "    else:\n",
    "        print(\"rectangle\")\n",
    "l=int(input())\n",
    "b=int(input())\n",
    "rectangle(l,b)"
   ]
  },
  {
   "cell_type": "markdown",
   "metadata": {},
   "source": [
    "* 6.a school has the following rules for grading"
   ]
  },
  {
   "cell_type": "code",
   "execution_count": 8,
   "metadata": {},
   "outputs": [
    {
     "name": "stdout",
     "output_type": "stream",
     "text": [
      "57\n",
      "c\n"
     ]
    }
   ],
   "source": [
    "def grading(m):\n",
    "    if(m<25):\n",
    "        print(\"fail\")\n",
    "    elif(m>=25 and m<45):\n",
    "        print(\"E\")\n",
    "    elif(m>=45 and m<50):\n",
    "        print(\"d\")\n",
    "    elif(m>=50 and m<60):\n",
    "        print(\"c\")\n",
    "    elif(m>=60 and m<80):\n",
    "        print(\"b\")\n",
    "    elif(m>80):\n",
    "        print(\"a\")\n",
    "    else:\n",
    "        print(\"absent\")\n",
    "m=int(input())\n",
    "grading(m)"
   ]
  },
  {
   "cell_type": "markdown",
   "metadata": {},
   "source": [
    "* 7.Take input of age of 3 people by user and determine oldest and youngest among them"
   ]
  },
  {
   "cell_type": "code",
   "execution_count": 13,
   "metadata": {},
   "outputs": [
    {
     "name": "stdout",
     "output_type": "stream",
     "text": [
      "20\n",
      "40\n",
      "60\n",
      "oldest nikki\n",
      "young liki\n"
     ]
    }
   ],
   "source": [
    "liki=int(input())\n",
    "keki=int(input())\n",
    "nikki=int(input())\n",
    "if liki>keki and liki>nikki:\n",
    "    oldest=liki\n",
    "    print(\"oldest liki\")\n",
    "elif keki>liki and keki>nikki:\n",
    "    oldest=keki\n",
    "    print(\"oldest keki\")\n",
    "else:\n",
    "    oldest=nikki\n",
    "    print(\"oldest nikki\")\n",
    "if liki<keki and liki<nikki:\n",
    "    young=liki\n",
    "    print(\"young liki\")\n",
    "elif keki<liki and keki<nikki:\n",
    "    young=keki\n",
    "    print(\"young keki\")\n",
    "else:\n",
    "    young=nikki\n",
    "    print(\"young nikki\")"
   ]
  },
  {
   "cell_type": "code",
   "execution_count": 10,
   "metadata": {},
   "outputs": [
    {
     "name": "stdout",
     "output_type": "stream",
     "text": [
      "5\n",
      "child\n"
     ]
    }
   ],
   "source": [
    "def age(a):\n",
    "    if(a>45):\n",
    "        print(\"oldest\")\n",
    "    elif(a<45 and a>20):\n",
    "        print(\"youngest\"\n",
    "    else:\n",
    "        print(\"child\")\n",
    "a=int(input())\n",
    "age(a)\n",
    "        "
   ]
  },
  {
   "cell_type": "markdown",
   "metadata": {},
   "source": [
    "* 8.A student will not be allowed to sit in exam if her|his attendence is les than 75%\n",
    "    1.Number of classes and attended\n",
    "    2.print percentage class attended"
   ]
  },
  {
   "cell_type": "code",
   "execution_count": 3,
   "metadata": {},
   "outputs": [
    {
     "name": "stdout",
     "output_type": "stream",
     "text": [
      "360\n",
      "200\n",
      "55.55555555555556\n",
      "not allowed for exam\n"
     ]
    }
   ],
   "source": [
    "def attendance(b,v):\n",
    "    u=((v/b)*100)\n",
    "    print(u)\n",
    "    if(u>75):\n",
    "        \n",
    "        print(\"allowed for exam\")\n",
    "    else:\n",
    "        print(\"not allowed for exam\")\n",
    "b=int(input())\n",
    "v=int(input())\n",
    "attendance(b,v)"
   ]
  },
  {
   "cell_type": "code",
   "execution_count": null,
   "metadata": {},
   "outputs": [],
   "source": []
  }
 ],
 "metadata": {
  "kernelspec": {
   "display_name": "Python 3",
   "language": "python",
   "name": "python3"
  },
  "language_info": {
   "codemirror_mode": {
    "name": "ipython",
    "version": 3
   },
   "file_extension": ".py",
   "mimetype": "text/x-python",
   "name": "python",
   "nbconvert_exporter": "python",
   "pygments_lexer": "ipython3",
   "version": "3.7.3"
  }
 },
 "nbformat": 4,
 "nbformat_minor": 2
}
