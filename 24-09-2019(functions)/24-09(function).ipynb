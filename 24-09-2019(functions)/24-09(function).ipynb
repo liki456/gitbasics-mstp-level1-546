{
 "cells": [
  {
   "cell_type": "markdown",
   "metadata": {},
   "source": [
    "# Function\n",
    "### For reusability we use function\n",
    "   \n",
    "   2.Function defination\n",
    "   3.Function calling"
   ]
  },
  {
   "cell_type": "markdown",
   "metadata": {},
   "source": [
    "* easy to debug"
   ]
  },
  {
   "cell_type": "code",
   "execution_count": null,
   "metadata": {},
   "outputs": [],
   "source": [
    "\"\"\"def functionname():#function defination\n",
    "     statement1\n",
    "     statement2\n",
    "    functionname() #function calling\"\"\""
   ]
  },
  {
   "cell_type": "code",
   "execution_count": 3,
   "metadata": {},
   "outputs": [
    {
     "name": "stdout",
     "output_type": "stream",
     "text": [
      "7\n",
      "9\n",
      "16\n"
     ]
    }
   ],
   "source": [
    "def addition():     #without arguments\n",
    "    b=int(input())\n",
    "    d=int(input())\n",
    "    print(b+d)\n",
    "addition()"
   ]
  },
  {
   "cell_type": "code",
   "execution_count": 1,
   "metadata": {},
   "outputs": [
    {
     "name": "stdout",
     "output_type": "stream",
     "text": [
      "6\n",
      "8\n",
      "14\n"
     ]
    }
   ],
   "source": [
    "def addition(a,b):     #with arguments\n",
    "    c=a+b\n",
    "    print(c)\n",
    "a=(input())\n",
    "b=(input())\n",
    "addition(int(a),int(b))"
   ]
  },
  {
   "cell_type": "code",
   "execution_count": 3,
   "metadata": {},
   "outputs": [
    {
     "data": {
      "text/plain": [
       "90"
      ]
     },
     "execution_count": 3,
     "metadata": {},
     "output_type": "execute_result"
    }
   ],
   "source": [
    "def add(j,k):\n",
    "    c=j+k\n",
    "    return c   # Only one return value will work \n",
    "add(20,70)"
   ]
  },
  {
   "cell_type": "code",
   "execution_count": 4,
   "metadata": {},
   "outputs": [
    {
     "data": {
      "text/plain": [
       "(20, 70, 90)"
      ]
     },
     "execution_count": 4,
     "metadata": {},
     "output_type": "execute_result"
    }
   ],
   "source": [
    "def add(j,k):\n",
    "    c=j+k\n",
    "    return (j,k,c)  \n",
    "add(20,70)"
   ]
  },
  {
   "cell_type": "code",
   "execution_count": 1,
   "metadata": {},
   "outputs": [
    {
     "ename": "SyntaxError",
     "evalue": "invalid syntax (<ipython-input-1-b204ae2f6c9d>, line 5)",
     "output_type": "error",
     "traceback": [
      "\u001b[1;36m  File \u001b[1;32m\"<ipython-input-1-b204ae2f6c9d>\"\u001b[1;36m, line \u001b[1;32m5\u001b[0m\n\u001b[1;33m    even(h)\u001b[0m\n\u001b[1;37m       ^\u001b[0m\n\u001b[1;31mSyntaxError\u001b[0m\u001b[1;31m:\u001b[0m invalid syntax\n"
     ]
    }
   ],
   "source": [
    "def even(h):     #even or odd\n",
    "    v=h%2==0\n",
    "    print(h)\n",
    "h=(int(input())\n",
    "even(h)"
   ]
  },
  {
   "cell_type": "code",
   "execution_count": 7,
   "metadata": {},
   "outputs": [
    {
     "name": "stdout",
     "output_type": "stream",
     "text": [
      "5\n",
      "odd\n"
     ]
    }
   ],
   "source": [
    "def evenorodd(h):\n",
    "    if h%2==0:\n",
    "        print(\"even\")\n",
    "    else:\n",
    "        print(\"odd\")\n",
    "h=int(input())\n",
    "evenorodd(h)"
   ]
  },
  {
   "cell_type": "code",
   "execution_count": 13,
   "metadata": {},
   "outputs": [
    {
     "name": "stdout",
     "output_type": "stream",
     "text": [
      "55\n"
     ]
    }
   ],
   "source": [
    "# sum of n natural numbers\n",
    "def sum(g):\n",
    "    s=0\n",
    "    for i in range(1,g+1):\n",
    "        s=s+i\n",
    "    print(s)\n",
    "sum(10)   "
   ]
  },
  {
   "cell_type": "code",
   "execution_count": 25,
   "metadata": {},
   "outputs": [
    {
     "name": "stdout",
     "output_type": "stream",
     "text": [
      "10\n",
      "3628800\n"
     ]
    }
   ],
   "source": [
    "# sum of product of n natural numbers\n",
    "def ram(n):\n",
    "    p=1\n",
    "    \n",
    "    for i in range(1,n+1):\n",
    "        p=p*i\n",
    "        \n",
    "        \n",
    "    print(p)\n",
    "n=int(input())    \n",
    "ram(n)"
   ]
  },
  {
   "cell_type": "markdown",
   "metadata": {},
   "source": [
    "## average of N natural numbers"
   ]
  },
  {
   "cell_type": "code",
   "execution_count": 24,
   "metadata": {},
   "outputs": [
    {
     "name": "stdout",
     "output_type": "stream",
     "text": [
      "10\n",
      "5.5\n"
     ]
    }
   ],
   "source": [
    "def nani(j):\n",
    "    sum=0\n",
    "    count=0\n",
    "    for i in range(1,n+1):\n",
    "        sum=sum+i\n",
    "        count=count+1\n",
    "        avg=sum/count\n",
    "    print(avg)\n",
    "j=int(input())\n",
    "nani(j)\n"
   ]
  },
  {
   "cell_type": "markdown",
   "metadata": {},
   "source": [
    "* print the factors of given number"
   ]
  },
  {
   "cell_type": "code",
   "execution_count": 5,
   "metadata": {},
   "outputs": [
    {
     "name": "stdout",
     "output_type": "stream",
     "text": [
      "1 2 5 "
     ]
    }
   ],
   "source": [
    "def liki(y):\n",
    "    for i in range(1,y):\n",
    "        if y%i==0:\n",
    "            print(i,end=\" \")\n",
    "        \n",
    "liki(10)        "
   ]
  },
  {
   "cell_type": "code",
   "execution_count": 5,
   "metadata": {},
   "outputs": [
    {
     "name": "stdout",
     "output_type": "stream",
     "text": [
      "8\n"
     ]
    }
   ],
   "source": [
    "def munni(d):\n",
    "    sum=0\n",
    "    for i in range(1,d):\n",
    "        if d%i==0:\n",
    "            sum=sum+i\n",
    "    print(sum)\n",
    "munni(10)            \n",
    "            \n",
    "            "
   ]
  },
  {
   "cell_type": "markdown",
   "metadata": {},
   "source": [
    "* to check wheather the given number is leapyear or not"
   ]
  },
  {
   "cell_type": "code",
   "execution_count": 1,
   "metadata": {},
   "outputs": [
    {
     "name": "stdout",
     "output_type": "stream",
     "text": [
      "2000\n",
      "leap year\n"
     ]
    }
   ],
   "source": [
    "def evenornot(j):\n",
    "    if j%4==0 and j%100!=0 or j%400==0:\n",
    "        print(\"leap year\")\n",
    "    else:\n",
    "        print(\"not year\")\n",
    "j=int(input())   \n",
    "evenornot(j)\n",
    "    "
   ]
  },
  {
   "cell_type": "markdown",
   "metadata": {},
   "source": [
    "* To check wheather the given number is perfect or not"
   ]
  },
  {
   "cell_type": "code",
   "execution_count": 12,
   "metadata": {},
   "outputs": [
    {
     "name": "stdout",
     "output_type": "stream",
     "text": [
      "7\n",
      "not perfect\n"
     ]
    }
   ],
   "source": [
    "def perfect(u):\n",
    "    sum=0\n",
    "    for i in range(1,u):\n",
    "        if u%i==0:\n",
    "            \n",
    "            sum=sum+i\n",
    "    if sum==u:\n",
    "            print(\"perfect\")\n",
    "    else:\n",
    "        print(\"not perfect\")\n",
    "        \n",
    "u=int(input())\n",
    "perfect(u)"
   ]
  },
  {
   "cell_type": "markdown",
   "metadata": {},
   "source": [
    "* To print sum of digits of a given number"
   ]
  },
  {
   "cell_type": "code",
   "execution_count": 11,
   "metadata": {},
   "outputs": [
    {
     "name": "stdout",
     "output_type": "stream",
     "text": [
      "45\n"
     ]
    }
   ],
   "source": [
    "def sumnubers(s):\n",
    "    sum=0\n",
    "    for i in range(0,10):\n",
    "    \n",
    "        sum=sum+i\n",
    "    print(sum)\n",
    "sumnubers(10)\n",
    "    "
   ]
  },
  {
   "cell_type": "code",
   "execution_count": null,
   "metadata": {},
   "outputs": [],
   "source": []
  }
 ],
 "metadata": {
  "kernelspec": {
   "display_name": "Python 3",
   "language": "python",
   "name": "python3"
  },
  "language_info": {
   "codemirror_mode": {
    "name": "ipython",
    "version": 3
   },
   "file_extension": ".py",
   "mimetype": "text/x-python",
   "name": "python",
   "nbconvert_exporter": "python",
   "pygments_lexer": "ipython3",
   "version": "3.7.3"
  }
 },
 "nbformat": 4,
 "nbformat_minor": 2
}
