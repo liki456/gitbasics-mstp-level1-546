{
 "cells": [
  {
   "cell_type": "code",
   "execution_count": null,
   "metadata": {},
   "outputs": [],
   "source": [
    "# functions to generate all the prime numbers in a given range"
   ]
  },
  {
   "cell_type": "code",
   "execution_count": 7,
   "metadata": {},
   "outputs": [
    {
     "name": "stdout",
     "output_type": "stream",
     "text": [
      "20\n",
      "30\n",
      "23,29,"
     ]
    }
   ],
   "source": [
    "def prime(lb):\n",
    "    count=0\n",
    "    for i in range(1,lb+1):\n",
    "        if lb%i==0:\n",
    "            count=count+1\n",
    "    if count==2:\n",
    "        print(i,end=\",\")\n",
    "lb=int(input())\n",
    "ub=int(input())\n",
    "for j in range (lb,ub+1):\n",
    "    prime(j)\n",
    "    "
   ]
  },
  {
   "cell_type": "code",
   "execution_count": 9,
   "metadata": {},
   "outputs": [
    {
     "name": "stdout",
     "output_type": "stream",
     "text": [
      "20\n",
      "30\n",
      "23,29,"
     ]
    }
   ],
   "source": [
    "def prime(lb):\n",
    "    count=0\n",
    "    for i in range(1,lb+1):\n",
    "        if lb%i==0:\n",
    "            count=count+1\n",
    "    if count==2:\n",
    "        return 1\n",
    "    else:\n",
    "        return 0\n",
    "lb=int(input())\n",
    "ub=int(input())\n",
    "for j in range (lb,ub+1):\n",
    "     if prime(j)==1:\n",
    "        print(j,end=\",\")\n",
    "    "
   ]
  },
  {
   "cell_type": "markdown",
   "metadata": {},
   "source": [
    "* Armstrong number"
   ]
  },
  {
   "cell_type": "code",
   "execution_count": 8,
   "metadata": {},
   "outputs": [
    {
     "name": "stdout",
     "output_type": "stream",
     "text": [
      "120\n",
      "9\n",
      "not\n"
     ]
    }
   ],
   "source": [
    "def armstrong(h):\n",
    "    sum=0\n",
    "    y=h\n",
    "    while(h!=0):\n",
    "        a=h%10\n",
    "        sum=sum+a**3\n",
    "        h=h//10\n",
    "    print(sum)\n",
    "    if(sum==y):\n",
    "        print(\"armstrong\")\n",
    "    else:\n",
    "        print(\"not\")\n",
    "h=int(input())\n",
    "armstrong(h)\n",
    "        \n"
   ]
  },
  {
   "cell_type": "markdown",
   "metadata": {},
   "source": [
    "* 12.even Number in Range"
   ]
  },
  {
   "cell_type": "code",
   "execution_count": 18,
   "metadata": {},
   "outputs": [
    {
     "ename": "IndentationError",
     "evalue": "expected an indented block (<ipython-input-18-a960b3171e24>, line 4)",
     "output_type": "error",
     "traceback": [
      "\u001b[1;36m  File \u001b[1;32m\"<ipython-input-18-a960b3171e24>\"\u001b[1;36m, line \u001b[1;32m4\u001b[0m\n\u001b[1;33m    print(i,end=\"#\")\u001b[0m\n\u001b[1;37m        ^\u001b[0m\n\u001b[1;31mIndentationError\u001b[0m\u001b[1;31m:\u001b[0m expected an indented block\n"
     ]
    }
   ],
   "source": [
    "def even(lb):\n",
    "    for i in range(1,lb+1):\n",
    "        if lb%2==0:\n",
    "            print(i,end=\"#\")\n",
    "lb=int(input())\n",
    "ub=int(input())\n",
    "for j in range(lb,ub+1):\n",
    "    even(j)"
   ]
  },
  {
   "cell_type": "markdown",
   "metadata": {},
   "source": [
    "* Factor 6 and 100"
   ]
  },
  {
   "cell_type": "code",
   "execution_count": 24,
   "metadata": {},
   "outputs": [
    {
     "name": "stdout",
     "output_type": "stream",
     "text": [
      "65\n",
      "no\n"
     ]
    }
   ],
   "source": [
    "def fact6(h):\n",
    "    if (h%6==0 and h%100!=0):\n",
    "        print(\"yes\")\n",
    "    else:\n",
    "        print(\"no\")\n",
    "h=int(input())\n",
    "fact6(h)"
   ]
  },
  {
   "cell_type": "markdown",
   "metadata": {},
   "source": []
  }
 ],
 "metadata": {
  "kernelspec": {
   "display_name": "Python 3",
   "language": "python",
   "name": "python3"
  },
  "language_info": {
   "codemirror_mode": {
    "name": "ipython",
    "version": 3
   },
   "file_extension": ".py",
   "mimetype": "text/x-python",
   "name": "python",
   "nbconvert_exporter": "python",
   "pygments_lexer": "ipython3",
   "version": "3.7.3"
  }
 },
 "nbformat": 4,
 "nbformat_minor": 2
}
