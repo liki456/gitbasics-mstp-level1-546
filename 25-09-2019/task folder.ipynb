{
 "cells": [
  {
   "cell_type": "markdown",
   "metadata": {},
   "source": [
    "#### 2.even range"
   ]
  },
  {
   "cell_type": "code",
   "execution_count": null,
   "metadata": {},
   "outputs": [],
   "source": []
  },
  {
   "cell_type": "code",
   "execution_count": 22,
   "metadata": {},
   "outputs": [
    {
     "name": "stdout",
     "output_type": "stream",
     "text": [
      "5\n",
      "2#4#"
     ]
    }
   ],
   "source": [
    "def evenrange(a):\n",
    "    for i in range(1,a+1):\n",
    "        if(i%2==0):\n",
    "            print(i,end=\"#\")\n",
    "a=int(input())\n",
    "evenrange(a)"
   ]
  },
  {
   "cell_type": "code",
   "execution_count": 1,
   "metadata": {},
   "outputs": [
    {
     "name": "stdout",
     "output_type": "stream",
     "text": [
      "4\n",
      "32.0\n"
     ]
    }
   ],
   "source": [
    "def evencube(j):\n",
    "    count=0\n",
    "    for i in range(1,j+1):\n",
    "        if(i%2==0):\n",
    "            cube=i**3\n",
    "            \n",
    "            count=count+1\n",
    "            avg=cube/count\n",
    "    print(avg)\n",
    "j=int(input())\n",
    "evencube(j)"
   ]
  },
  {
   "cell_type": "code",
   "execution_count": 4,
   "metadata": {},
   "outputs": [
    {
     "name": "stdout",
     "output_type": "stream",
     "text": [
      "10\n",
      "100\n",
      "28\n"
     ]
    }
   ],
   "source": [
    "def perfect(n):\n",
    "    s=0\n",
    "    for i in range(1,n):\n",
    "        if n%i==0:\n",
    "            s=s+i\n",
    "    if s==n:\n",
    "        return 1\n",
    "    else:\n",
    "        return 0\n",
    "lb=int(input())\n",
    "ub=int(input())\n",
    "s1=0\n",
    "for i in range(lb,ub+1):\n",
    "    if perfect(i)==1:\n",
    "        s1=s1+i\n",
    "print(s1)\n",
    "\n",
    "            \n",
    "            \n",
    "            \n",
    "        \n",
    "        "
   ]
  },
  {
   "cell_type": "markdown",
   "metadata": {},
   "source": [
    "* Arm strong Number of odd "
   ]
  },
  {
   "cell_type": "code",
   "execution_count": 12,
   "metadata": {},
   "outputs": [
    {
     "name": "stdout",
     "output_type": "stream",
     "text": [
      "153\n",
      "153\n",
      "armstrong\n",
      "odd arm 153\n"
     ]
    }
   ],
   "source": [
    "def armstrong(h):\n",
    "    sum=0\n",
    "    y=h\n",
    "    for i in range(1,h+1):\n",
    "        while(h!=0):\n",
    "            a=h%10\n",
    "            sum=sum+a**3\n",
    "            h=h//10\n",
    "    print(sum)\n",
    "    if(sum==y):\n",
    "        print(\"armstrong\")\n",
    "    if (sum%2!=0):\n",
    "        print(\"odd arm\",sum)\n",
    "h=int(input())\n",
    "armstrong(h)\n",
    "\n"
   ]
  },
  {
   "cell_type": "code",
   "execution_count": null,
   "metadata": {},
   "outputs": [],
   "source": []
  }
 ],
 "metadata": {
  "kernelspec": {
   "display_name": "Python 3",
   "language": "python",
   "name": "python3"
  },
  "language_info": {
   "codemirror_mode": {
    "name": "ipython",
    "version": 3
   },
   "file_extension": ".py",
   "mimetype": "text/x-python",
   "name": "python",
   "nbconvert_exporter": "python",
   "pygments_lexer": "ipython3",
   "version": "3.7.3"
  }
 },
 "nbformat": 4,
 "nbformat_minor": 2
}
