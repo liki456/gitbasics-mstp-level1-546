{
 "cells": [
  {
   "cell_type": "code",
   "execution_count": 1,
   "metadata": {},
   "outputs": [],
   "source": [
    "from datetime import datetime"
   ]
  },
  {
   "cell_type": "code",
   "execution_count": 3,
   "metadata": {},
   "outputs": [
    {
     "data": {
      "text/plain": [
       "datetime.datetime(2020, 1, 29, 13, 54, 21, 100137)"
      ]
     },
     "execution_count": 3,
     "metadata": {},
     "output_type": "execute_result"
    }
   ],
   "source": [
    "a=datetime.now()\n",
    "a"
   ]
  },
  {
   "cell_type": "code",
   "execution_count": 11,
   "metadata": {},
   "outputs": [
    {
     "name": "stdout",
     "output_type": "stream",
     "text": [
      "2020-01-29 14:02:18.637492\n",
      "Date now:29-1-2020\n"
     ]
    }
   ],
   "source": [
    "from datetime import *\n",
    "now=datetime.now()\n",
    "print(now)\n",
    "print('Date now:{}-{}-{}'.format(now.day,now.month,now.year))"
   ]
  },
  {
   "cell_type": "code",
   "execution_count": 6,
   "metadata": {},
   "outputs": [
    {
     "name": "stdout",
     "output_type": "stream",
     "text": [
      "2020-01-29 13:59:05.415630\n",
      "Date now:29-1-2020\n",
      "time now :13:59:5\n"
     ]
    }
   ],
   "source": [
    "now=datetime.now()\n",
    "print(now)\n",
    "print('Date now:{}-{}-{}'.format(now.day,now.month,now.year))\n",
    "print('time now :{}:{}:{}'.format(now.hour,now.minute,now.second))"
   ]
  },
  {
   "cell_type": "code",
   "execution_count": 8,
   "metadata": {},
   "outputs": [
    {
     "name": "stdout",
     "output_type": "stream",
     "text": [
      "2020-01-29 14:00:42.805727\n",
      "today date and time : 2020-01-29 14:00:42.805727\n"
     ]
    }
   ],
   "source": [
    "tdm=datetime.today()\n",
    "print(tdm)\n",
    "print('today date and time :',tdm)"
   ]
  },
  {
   "cell_type": "code",
   "execution_count": 13,
   "metadata": {},
   "outputs": [
    {
     "data": {
      "text/plain": [
       "datetime.date(2020, 1, 29)"
      ]
     },
     "execution_count": 13,
     "metadata": {},
     "output_type": "execute_result"
    }
   ],
   "source": [
    "date.today()\n"
   ]
  },
  {
   "cell_type": "code",
   "execution_count": 14,
   "metadata": {},
   "outputs": [
    {
     "name": "stdout",
     "output_type": "stream",
     "text": [
      "926 days, 15:45:00\n",
      "926\n"
     ]
    }
   ],
   "source": [
    "delta=datetime(2011,1,7)-datetime(2008,6,24,8,15)\n",
    "print(delta)\n",
    "print(delta.days)"
   ]
  },
  {
   "cell_type": "code",
   "execution_count": 15,
   "metadata": {},
   "outputs": [
    {
     "data": {
      "text/plain": [
       "datetime.timedelta(days=926, seconds=56700)"
      ]
     },
     "execution_count": 15,
     "metadata": {},
     "output_type": "execute_result"
    }
   ],
   "source": [
    "delta"
   ]
  },
  {
   "cell_type": "code",
   "execution_count": 16,
   "metadata": {},
   "outputs": [
    {
     "data": {
      "text/plain": [
       "datetime.datetime(2012, 7, 19, 0, 0)"
      ]
     },
     "execution_count": 16,
     "metadata": {},
     "output_type": "execute_result"
    }
   ],
   "source": [
    "datetime(2011,12,26)+timedelta(206)"
   ]
  },
  {
   "cell_type": "code",
   "execution_count": null,
   "metadata": {},
   "outputs": [],
   "source": [
    "value='26 dec 1993'\n",
    "datetime.strptime(value,\"\")"
   ]
  },
  {
   "cell_type": "code",
   "execution_count": 19,
   "metadata": {},
   "outputs": [],
   "source": [
    "import numpy as np\n",
    "dates=[datetime(2011,1,2),datetime(2011,1,5),datetime(2011,1,7)]"
   ]
  },
  {
   "cell_type": "code",
   "execution_count": 21,
   "metadata": {},
   "outputs": [
    {
     "data": {
      "text/plain": [
       "2011-01-02   -1.375388\n",
       "2011-01-05   -0.558115\n",
       "2011-01-07    1.560487\n",
       "dtype: float64"
      ]
     },
     "execution_count": 21,
     "metadata": {},
     "output_type": "execute_result"
    }
   ],
   "source": [
    "import pandas as pd\n",
    "ts=pd.Series(np.random.randn(3),index=dates)\n",
    "ts"
   ]
  },
  {
   "cell_type": "code",
   "execution_count": 22,
   "metadata": {},
   "outputs": [
    {
     "data": {
      "text/plain": [
       "DatetimeIndex(['2011-01-02', '2011-01-05', '2011-01-07'], dtype='datetime64[ns]', freq=None)"
      ]
     },
     "execution_count": 22,
     "metadata": {},
     "output_type": "execute_result"
    }
   ],
   "source": [
    "ts.index"
   ]
  },
  {
   "cell_type": "code",
   "execution_count": 24,
   "metadata": {},
   "outputs": [
    {
     "data": {
      "text/plain": [
       "Timestamp('2011-01-05 00:00:00')"
      ]
     },
     "execution_count": 24,
     "metadata": {},
     "output_type": "execute_result"
    }
   ],
   "source": [
    "j=ts.index[1]\n",
    "j"
   ]
  },
  {
   "cell_type": "code",
   "execution_count": 25,
   "metadata": {},
   "outputs": [
    {
     "data": {
      "text/plain": [
       "-0.558115317603042"
      ]
     },
     "execution_count": 25,
     "metadata": {},
     "output_type": "execute_result"
    }
   ],
   "source": [
    "ts[j]"
   ]
  },
  {
   "cell_type": "code",
   "execution_count": 26,
   "metadata": {},
   "outputs": [
    {
     "name": "stdout",
     "output_type": "stream",
     "text": [
      "2020-01-29 14:28:58.384327\n",
      "1580336938.384327\n"
     ]
    }
   ],
   "source": [
    "M=datetime.now()\n",
    "print(M)\n",
    "timestamp=datetime.timestamp(M)\n",
    "print(timestamp)"
   ]
  },
  {
   "cell_type": "code",
   "execution_count": 27,
   "metadata": {},
   "outputs": [
    {
     "data": {
      "text/plain": [
       "2000-01-01    0.395364\n",
       "2000-01-02    0.943866\n",
       "2000-01-03    1.960123\n",
       "2000-01-04   -0.637054\n",
       "2000-01-05   -1.974509\n",
       "2000-01-06    0.551655\n",
       "2000-01-07    2.260817\n",
       "2000-01-08    0.262402\n",
       "2000-01-09   -1.226152\n",
       "2000-01-10    0.308758\n",
       "2000-01-11    1.413614\n",
       "2000-01-12    1.422989\n",
       "2000-01-13    0.595506\n",
       "2000-01-14    0.072515\n",
       "2000-01-15    0.984921\n",
       "2000-01-16   -0.111607\n",
       "2000-01-17   -0.168591\n",
       "2000-01-18    1.004318\n",
       "2000-01-19    0.188488\n",
       "2000-01-20    0.022587\n",
       "2000-01-21    1.913121\n",
       "2000-01-22   -0.109864\n",
       "2000-01-23    0.043763\n",
       "2000-01-24   -1.711556\n",
       "2000-01-25   -0.909025\n",
       "2000-01-26   -0.176664\n",
       "2000-01-27   -1.548857\n",
       "2000-01-28    1.082611\n",
       "2000-01-29   -0.758682\n",
       "2000-01-30    0.975881\n",
       "                ...   \n",
       "2002-08-28    1.753872\n",
       "2002-08-29    0.441267\n",
       "2002-08-30    0.335907\n",
       "2002-08-31   -0.343530\n",
       "2002-09-01    1.273077\n",
       "2002-09-02    0.436499\n",
       "2002-09-03    1.627060\n",
       "2002-09-04    2.258550\n",
       "2002-09-05    0.060734\n",
       "2002-09-06    1.179914\n",
       "2002-09-07    0.574721\n",
       "2002-09-08   -1.131368\n",
       "2002-09-09   -0.479778\n",
       "2002-09-10    0.252496\n",
       "2002-09-11   -0.554681\n",
       "2002-09-12    1.909091\n",
       "2002-09-13    2.676703\n",
       "2002-09-14   -0.842979\n",
       "2002-09-15    1.180958\n",
       "2002-09-16   -0.379526\n",
       "2002-09-17   -0.607794\n",
       "2002-09-18    2.502555\n",
       "2002-09-19   -0.781340\n",
       "2002-09-20   -0.419406\n",
       "2002-09-21    2.191688\n",
       "2002-09-22    0.413747\n",
       "2002-09-23   -0.266826\n",
       "2002-09-24    0.190564\n",
       "2002-09-25    0.564663\n",
       "2002-09-26   -1.006604\n",
       "Freq: D, Length: 1000, dtype: float64"
      ]
     },
     "execution_count": 27,
     "metadata": {},
     "output_type": "execute_result"
    }
   ],
   "source": [
    "longer_ts=pd.Series(np.random.randn(1000),index=pd.date_range('1/1/2000',periods=1000))\n",
    "longer_ts"
   ]
  },
  {
   "cell_type": "code",
   "execution_count": 29,
   "metadata": {},
   "outputs": [
    {
     "data": {
      "text/plain": [
       "2001-01-01   -0.521327\n",
       "2001-01-02   -1.544522\n",
       "2001-01-03   -1.074208\n",
       "2001-01-04    0.502526\n",
       "2001-01-05   -0.357476\n",
       "2001-01-06    0.092209\n",
       "2001-01-07    0.436696\n",
       "2001-01-08    0.350152\n",
       "2001-01-09    0.238681\n",
       "2001-01-10    0.236012\n",
       "2001-01-11    1.012346\n",
       "2001-01-12    0.445440\n",
       "2001-01-13    0.682650\n",
       "2001-01-14   -0.719451\n",
       "2001-01-15    1.189800\n",
       "2001-01-16   -0.675163\n",
       "2001-01-17    0.882700\n",
       "2001-01-18    0.812546\n",
       "2001-01-19    0.318355\n",
       "2001-01-20    0.312209\n",
       "2001-01-21   -1.225771\n",
       "2001-01-22   -0.953047\n",
       "2001-01-23    1.052666\n",
       "2001-01-24   -0.358930\n",
       "2001-01-25   -0.345544\n",
       "2001-01-26   -0.855828\n",
       "2001-01-27   -0.921125\n",
       "2001-01-28    0.403494\n",
       "2001-01-29    1.000852\n",
       "2001-01-30   -0.018977\n",
       "                ...   \n",
       "2001-12-02   -1.477592\n",
       "2001-12-03   -0.479605\n",
       "2001-12-04    0.298964\n",
       "2001-12-05   -0.410375\n",
       "2001-12-06   -1.646433\n",
       "2001-12-07    1.586372\n",
       "2001-12-08   -0.786108\n",
       "2001-12-09    0.396526\n",
       "2001-12-10   -0.288969\n",
       "2001-12-11   -0.070219\n",
       "2001-12-12   -0.596877\n",
       "2001-12-13   -1.353519\n",
       "2001-12-14   -1.136497\n",
       "2001-12-15   -1.221905\n",
       "2001-12-16    0.741535\n",
       "2001-12-17   -2.285976\n",
       "2001-12-18    0.023160\n",
       "2001-12-19    1.027878\n",
       "2001-12-20    0.030474\n",
       "2001-12-21    0.897664\n",
       "2001-12-22   -0.648893\n",
       "2001-12-23   -0.864649\n",
       "2001-12-24   -0.106708\n",
       "2001-12-25    1.820796\n",
       "2001-12-26    1.005942\n",
       "2001-12-27   -1.438143\n",
       "2001-12-28    0.293705\n",
       "2001-12-29   -0.923678\n",
       "2001-12-30    0.720788\n",
       "2001-12-31   -0.036047\n",
       "Freq: D, Length: 365, dtype: float64"
      ]
     },
     "execution_count": 29,
     "metadata": {},
     "output_type": "execute_result"
    }
   ],
   "source": [
    "longer_ts['2001']"
   ]
  },
  {
   "cell_type": "code",
   "execution_count": 30,
   "metadata": {},
   "outputs": [
    {
     "data": {
      "text/plain": [
       "2001-05-01   -0.652547\n",
       "2001-05-02   -1.202026\n",
       "2001-05-03   -0.013399\n",
       "2001-05-04   -0.042233\n",
       "2001-05-05   -2.049903\n",
       "2001-05-06    0.002789\n",
       "2001-05-07    0.084762\n",
       "2001-05-08   -0.483331\n",
       "2001-05-09    0.065531\n",
       "2001-05-10   -1.122167\n",
       "2001-05-11    1.793233\n",
       "2001-05-12   -0.606556\n",
       "2001-05-13    0.200354\n",
       "2001-05-14   -1.962090\n",
       "2001-05-15    1.324462\n",
       "2001-05-16   -0.191455\n",
       "2001-05-17   -0.877296\n",
       "2001-05-18   -0.809907\n",
       "2001-05-19    1.102323\n",
       "2001-05-20   -0.149581\n",
       "2001-05-21   -1.097605\n",
       "2001-05-22   -1.230614\n",
       "2001-05-23   -0.664460\n",
       "2001-05-24   -0.208300\n",
       "2001-05-25   -0.432388\n",
       "2001-05-26   -2.014067\n",
       "2001-05-27   -2.052455\n",
       "2001-05-28   -1.490437\n",
       "2001-05-29   -0.965977\n",
       "2001-05-30    0.838960\n",
       "2001-05-31    0.995068\n",
       "Freq: D, dtype: float64"
      ]
     },
     "execution_count": 30,
     "metadata": {},
     "output_type": "execute_result"
    }
   ],
   "source": [
    "longer_ts['2001-05']"
   ]
  },
  {
   "cell_type": "code",
   "execution_count": 31,
   "metadata": {},
   "outputs": [
    {
     "data": {
      "text/plain": [
       "2011-01-07    1.560487\n",
       "dtype: float64"
      ]
     },
     "execution_count": 31,
     "metadata": {},
     "output_type": "execute_result"
    }
   ],
   "source": [
    "ts[datetime(2011,1,7):]"
   ]
  },
  {
   "cell_type": "code",
   "execution_count": 32,
   "metadata": {},
   "outputs": [
    {
     "data": {
      "text/plain": [
       "2011-01-02   -1.375388\n",
       "2011-01-05   -0.558115\n",
       "2011-01-07    1.560487\n",
       "dtype: float64"
      ]
     },
     "execution_count": 32,
     "metadata": {},
     "output_type": "execute_result"
    }
   ],
   "source": [
    "ts"
   ]
  },
  {
   "cell_type": "code",
   "execution_count": 34,
   "metadata": {},
   "outputs": [
    {
     "data": {
      "text/plain": [
       "2011-01-05   -0.558115\n",
       "2011-01-07    1.560487\n",
       "dtype: float64"
      ]
     },
     "execution_count": 34,
     "metadata": {},
     "output_type": "execute_result"
    }
   ],
   "source": [
    "ts['2011, 1, 5':'2011-01-12']"
   ]
  },
  {
   "cell_type": "code",
   "execution_count": 35,
   "metadata": {},
   "outputs": [
    {
     "data": {
      "text/plain": [
       "DatetimeIndex(['2000-01-31', '2000-02-29', '2000-03-31', '2000-04-28',\n",
       "               '2000-05-31', '2000-06-30', '2000-07-31', '2000-08-31',\n",
       "               '2000-09-29', '2000-10-31', '2000-11-30', '2000-12-29'],\n",
       "              dtype='datetime64[ns]', freq='BM')"
      ]
     },
     "execution_count": 35,
     "metadata": {},
     "output_type": "execute_result"
    }
   ],
   "source": [
    "pd.date_range('2000-01-01','2001-01-01',freq='BM')"
   ]
  },
  {
   "cell_type": "code",
   "execution_count": 37,
   "metadata": {},
   "outputs": [],
   "source": [
    "dates=pd.date_range('1/1/2019',periods=100,freq='W-WED')"
   ]
  },
  {
   "cell_type": "code",
   "execution_count": 40,
   "metadata": {},
   "outputs": [
    {
     "data": {
      "text/html": [
       "<div>\n",
       "<style scoped>\n",
       "    .dataframe tbody tr th:only-of-type {\n",
       "        vertical-align: middle;\n",
       "    }\n",
       "\n",
       "    .dataframe tbody tr th {\n",
       "        vertical-align: top;\n",
       "    }\n",
       "\n",
       "    .dataframe thead th {\n",
       "        text-align: right;\n",
       "    }\n",
       "</style>\n",
       "<table border=\"1\" class=\"dataframe\">\n",
       "  <thead>\n",
       "    <tr style=\"text-align: right;\">\n",
       "      <th></th>\n",
       "      <th>Colorado</th>\n",
       "      <th>Texas</th>\n",
       "      <th>New york</th>\n",
       "      <th>Ohio</th>\n",
       "    </tr>\n",
       "  </thead>\n",
       "  <tbody>\n",
       "    <tr>\n",
       "      <th>2019-01-02</th>\n",
       "      <td>0.300074</td>\n",
       "      <td>0.063132</td>\n",
       "      <td>0.348648</td>\n",
       "      <td>0.345401</td>\n",
       "    </tr>\n",
       "    <tr>\n",
       "      <th>2019-01-09</th>\n",
       "      <td>-0.925399</td>\n",
       "      <td>-1.214565</td>\n",
       "      <td>0.904884</td>\n",
       "      <td>0.066809</td>\n",
       "    </tr>\n",
       "    <tr>\n",
       "      <th>2019-01-16</th>\n",
       "      <td>0.070775</td>\n",
       "      <td>0.295676</td>\n",
       "      <td>-0.565117</td>\n",
       "      <td>0.756468</td>\n",
       "    </tr>\n",
       "    <tr>\n",
       "      <th>2019-01-23</th>\n",
       "      <td>-0.030890</td>\n",
       "      <td>0.854553</td>\n",
       "      <td>1.647494</td>\n",
       "      <td>-1.733227</td>\n",
       "    </tr>\n",
       "    <tr>\n",
       "      <th>2019-01-30</th>\n",
       "      <td>-1.437066</td>\n",
       "      <td>0.868002</td>\n",
       "      <td>-0.676711</td>\n",
       "      <td>1.531349</td>\n",
       "    </tr>\n",
       "    <tr>\n",
       "      <th>2019-02-06</th>\n",
       "      <td>-0.187236</td>\n",
       "      <td>-1.459968</td>\n",
       "      <td>2.378217</td>\n",
       "      <td>-0.272716</td>\n",
       "    </tr>\n",
       "    <tr>\n",
       "      <th>2019-02-13</th>\n",
       "      <td>2.311891</td>\n",
       "      <td>0.115421</td>\n",
       "      <td>0.909266</td>\n",
       "      <td>0.754189</td>\n",
       "    </tr>\n",
       "    <tr>\n",
       "      <th>2019-02-20</th>\n",
       "      <td>0.533447</td>\n",
       "      <td>-0.824280</td>\n",
       "      <td>-0.879987</td>\n",
       "      <td>0.591632</td>\n",
       "    </tr>\n",
       "    <tr>\n",
       "      <th>2019-02-27</th>\n",
       "      <td>-0.859401</td>\n",
       "      <td>-1.860874</td>\n",
       "      <td>0.418673</td>\n",
       "      <td>-0.937063</td>\n",
       "    </tr>\n",
       "    <tr>\n",
       "      <th>2019-03-06</th>\n",
       "      <td>1.275301</td>\n",
       "      <td>2.335385</td>\n",
       "      <td>-0.458096</td>\n",
       "      <td>0.354503</td>\n",
       "    </tr>\n",
       "    <tr>\n",
       "      <th>2019-03-13</th>\n",
       "      <td>-1.708572</td>\n",
       "      <td>0.285114</td>\n",
       "      <td>-0.453067</td>\n",
       "      <td>-0.940571</td>\n",
       "    </tr>\n",
       "    <tr>\n",
       "      <th>2019-03-20</th>\n",
       "      <td>-2.537903</td>\n",
       "      <td>-0.617527</td>\n",
       "      <td>0.454164</td>\n",
       "      <td>1.739520</td>\n",
       "    </tr>\n",
       "    <tr>\n",
       "      <th>2019-03-27</th>\n",
       "      <td>0.576854</td>\n",
       "      <td>0.974895</td>\n",
       "      <td>-0.697237</td>\n",
       "      <td>0.549912</td>\n",
       "    </tr>\n",
       "    <tr>\n",
       "      <th>2019-04-03</th>\n",
       "      <td>1.569169</td>\n",
       "      <td>0.187950</td>\n",
       "      <td>-0.127624</td>\n",
       "      <td>-0.679126</td>\n",
       "    </tr>\n",
       "    <tr>\n",
       "      <th>2019-04-10</th>\n",
       "      <td>0.123711</td>\n",
       "      <td>-1.765782</td>\n",
       "      <td>1.473194</td>\n",
       "      <td>1.126042</td>\n",
       "    </tr>\n",
       "    <tr>\n",
       "      <th>2019-04-17</th>\n",
       "      <td>-0.897329</td>\n",
       "      <td>-2.758312</td>\n",
       "      <td>-0.168841</td>\n",
       "      <td>0.700357</td>\n",
       "    </tr>\n",
       "    <tr>\n",
       "      <th>2019-04-24</th>\n",
       "      <td>1.035603</td>\n",
       "      <td>-1.105417</td>\n",
       "      <td>-1.267314</td>\n",
       "      <td>-1.110505</td>\n",
       "    </tr>\n",
       "    <tr>\n",
       "      <th>2019-05-01</th>\n",
       "      <td>2.136245</td>\n",
       "      <td>2.184442</td>\n",
       "      <td>-1.502571</td>\n",
       "      <td>1.103517</td>\n",
       "    </tr>\n",
       "    <tr>\n",
       "      <th>2019-05-08</th>\n",
       "      <td>-1.731291</td>\n",
       "      <td>0.221781</td>\n",
       "      <td>-0.701751</td>\n",
       "      <td>0.377894</td>\n",
       "    </tr>\n",
       "    <tr>\n",
       "      <th>2019-05-15</th>\n",
       "      <td>-0.225452</td>\n",
       "      <td>0.463690</td>\n",
       "      <td>-1.171988</td>\n",
       "      <td>0.887223</td>\n",
       "    </tr>\n",
       "    <tr>\n",
       "      <th>2019-05-22</th>\n",
       "      <td>0.047598</td>\n",
       "      <td>-0.967248</td>\n",
       "      <td>2.137109</td>\n",
       "      <td>-0.111549</td>\n",
       "    </tr>\n",
       "    <tr>\n",
       "      <th>2019-05-29</th>\n",
       "      <td>-1.283113</td>\n",
       "      <td>0.050568</td>\n",
       "      <td>-0.511120</td>\n",
       "      <td>-1.073026</td>\n",
       "    </tr>\n",
       "    <tr>\n",
       "      <th>2019-06-05</th>\n",
       "      <td>-1.243057</td>\n",
       "      <td>-0.444941</td>\n",
       "      <td>-1.494646</td>\n",
       "      <td>-0.226413</td>\n",
       "    </tr>\n",
       "    <tr>\n",
       "      <th>2019-06-12</th>\n",
       "      <td>-0.620575</td>\n",
       "      <td>-0.554736</td>\n",
       "      <td>-0.900743</td>\n",
       "      <td>-1.016934</td>\n",
       "    </tr>\n",
       "    <tr>\n",
       "      <th>2019-06-19</th>\n",
       "      <td>0.340717</td>\n",
       "      <td>-0.148478</td>\n",
       "      <td>-1.406838</td>\n",
       "      <td>-0.700315</td>\n",
       "    </tr>\n",
       "    <tr>\n",
       "      <th>2019-06-26</th>\n",
       "      <td>-0.537492</td>\n",
       "      <td>-0.764297</td>\n",
       "      <td>0.532643</td>\n",
       "      <td>1.336297</td>\n",
       "    </tr>\n",
       "    <tr>\n",
       "      <th>2019-07-03</th>\n",
       "      <td>-1.522316</td>\n",
       "      <td>1.245307</td>\n",
       "      <td>-1.396496</td>\n",
       "      <td>-0.405009</td>\n",
       "    </tr>\n",
       "    <tr>\n",
       "      <th>2019-07-10</th>\n",
       "      <td>-1.401933</td>\n",
       "      <td>0.446559</td>\n",
       "      <td>-1.041408</td>\n",
       "      <td>0.576434</td>\n",
       "    </tr>\n",
       "    <tr>\n",
       "      <th>2019-07-17</th>\n",
       "      <td>-0.511230</td>\n",
       "      <td>2.610992</td>\n",
       "      <td>0.139523</td>\n",
       "      <td>-1.017672</td>\n",
       "    </tr>\n",
       "    <tr>\n",
       "      <th>2019-07-24</th>\n",
       "      <td>-0.739493</td>\n",
       "      <td>-0.208710</td>\n",
       "      <td>-1.631774</td>\n",
       "      <td>0.093522</td>\n",
       "    </tr>\n",
       "    <tr>\n",
       "      <th>...</th>\n",
       "      <td>...</td>\n",
       "      <td>...</td>\n",
       "      <td>...</td>\n",
       "      <td>...</td>\n",
       "    </tr>\n",
       "    <tr>\n",
       "      <th>2020-05-06</th>\n",
       "      <td>0.329127</td>\n",
       "      <td>0.400546</td>\n",
       "      <td>1.228724</td>\n",
       "      <td>0.241489</td>\n",
       "    </tr>\n",
       "    <tr>\n",
       "      <th>2020-05-13</th>\n",
       "      <td>-0.593160</td>\n",
       "      <td>-2.921462</td>\n",
       "      <td>0.129400</td>\n",
       "      <td>1.093349</td>\n",
       "    </tr>\n",
       "    <tr>\n",
       "      <th>2020-05-20</th>\n",
       "      <td>0.066660</td>\n",
       "      <td>-0.395984</td>\n",
       "      <td>0.238877</td>\n",
       "      <td>-1.641057</td>\n",
       "    </tr>\n",
       "    <tr>\n",
       "      <th>2020-05-27</th>\n",
       "      <td>-0.702893</td>\n",
       "      <td>-1.107839</td>\n",
       "      <td>0.871158</td>\n",
       "      <td>-0.170641</td>\n",
       "    </tr>\n",
       "    <tr>\n",
       "      <th>2020-06-03</th>\n",
       "      <td>1.148460</td>\n",
       "      <td>-0.754910</td>\n",
       "      <td>-0.323040</td>\n",
       "      <td>-0.292362</td>\n",
       "    </tr>\n",
       "    <tr>\n",
       "      <th>2020-06-10</th>\n",
       "      <td>0.233481</td>\n",
       "      <td>-0.755098</td>\n",
       "      <td>0.172106</td>\n",
       "      <td>0.692217</td>\n",
       "    </tr>\n",
       "    <tr>\n",
       "      <th>2020-06-17</th>\n",
       "      <td>-0.543335</td>\n",
       "      <td>-0.777027</td>\n",
       "      <td>-1.135659</td>\n",
       "      <td>-0.451134</td>\n",
       "    </tr>\n",
       "    <tr>\n",
       "      <th>2020-06-24</th>\n",
       "      <td>0.469604</td>\n",
       "      <td>-0.813881</td>\n",
       "      <td>0.539372</td>\n",
       "      <td>1.191911</td>\n",
       "    </tr>\n",
       "    <tr>\n",
       "      <th>2020-07-01</th>\n",
       "      <td>-0.227113</td>\n",
       "      <td>-0.204518</td>\n",
       "      <td>1.727533</td>\n",
       "      <td>0.760388</td>\n",
       "    </tr>\n",
       "    <tr>\n",
       "      <th>2020-07-08</th>\n",
       "      <td>0.116638</td>\n",
       "      <td>0.314894</td>\n",
       "      <td>0.250334</td>\n",
       "      <td>1.098779</td>\n",
       "    </tr>\n",
       "    <tr>\n",
       "      <th>2020-07-15</th>\n",
       "      <td>0.433390</td>\n",
       "      <td>-0.166179</td>\n",
       "      <td>1.162214</td>\n",
       "      <td>-0.447954</td>\n",
       "    </tr>\n",
       "    <tr>\n",
       "      <th>2020-07-22</th>\n",
       "      <td>-0.588888</td>\n",
       "      <td>-2.680321</td>\n",
       "      <td>0.285823</td>\n",
       "      <td>-0.744264</td>\n",
       "    </tr>\n",
       "    <tr>\n",
       "      <th>2020-07-29</th>\n",
       "      <td>1.743590</td>\n",
       "      <td>-0.837160</td>\n",
       "      <td>-0.245509</td>\n",
       "      <td>1.017324</td>\n",
       "    </tr>\n",
       "    <tr>\n",
       "      <th>2020-08-05</th>\n",
       "      <td>1.151904</td>\n",
       "      <td>-0.548517</td>\n",
       "      <td>-0.376182</td>\n",
       "      <td>0.908263</td>\n",
       "    </tr>\n",
       "    <tr>\n",
       "      <th>2020-08-12</th>\n",
       "      <td>-1.938557</td>\n",
       "      <td>0.127497</td>\n",
       "      <td>0.874066</td>\n",
       "      <td>1.384578</td>\n",
       "    </tr>\n",
       "    <tr>\n",
       "      <th>2020-08-19</th>\n",
       "      <td>-1.064242</td>\n",
       "      <td>0.874684</td>\n",
       "      <td>2.187218</td>\n",
       "      <td>-0.845787</td>\n",
       "    </tr>\n",
       "    <tr>\n",
       "      <th>2020-08-26</th>\n",
       "      <td>0.396578</td>\n",
       "      <td>0.413578</td>\n",
       "      <td>-1.063803</td>\n",
       "      <td>0.568855</td>\n",
       "    </tr>\n",
       "    <tr>\n",
       "      <th>2020-09-02</th>\n",
       "      <td>-0.856968</td>\n",
       "      <td>-1.277101</td>\n",
       "      <td>-0.835330</td>\n",
       "      <td>0.413693</td>\n",
       "    </tr>\n",
       "    <tr>\n",
       "      <th>2020-09-09</th>\n",
       "      <td>-0.691981</td>\n",
       "      <td>0.752222</td>\n",
       "      <td>-0.315278</td>\n",
       "      <td>-1.372284</td>\n",
       "    </tr>\n",
       "    <tr>\n",
       "      <th>2020-09-16</th>\n",
       "      <td>-0.018469</td>\n",
       "      <td>-1.437254</td>\n",
       "      <td>-1.176861</td>\n",
       "      <td>0.882671</td>\n",
       "    </tr>\n",
       "    <tr>\n",
       "      <th>2020-09-23</th>\n",
       "      <td>0.198081</td>\n",
       "      <td>-0.708680</td>\n",
       "      <td>-0.190072</td>\n",
       "      <td>0.087932</td>\n",
       "    </tr>\n",
       "    <tr>\n",
       "      <th>2020-09-30</th>\n",
       "      <td>-1.546319</td>\n",
       "      <td>0.339770</td>\n",
       "      <td>1.424819</td>\n",
       "      <td>-0.263097</td>\n",
       "    </tr>\n",
       "    <tr>\n",
       "      <th>2020-10-07</th>\n",
       "      <td>-1.912414</td>\n",
       "      <td>1.100710</td>\n",
       "      <td>1.458257</td>\n",
       "      <td>-0.346322</td>\n",
       "    </tr>\n",
       "    <tr>\n",
       "      <th>2020-10-14</th>\n",
       "      <td>0.279036</td>\n",
       "      <td>-0.479760</td>\n",
       "      <td>-0.909236</td>\n",
       "      <td>-0.427637</td>\n",
       "    </tr>\n",
       "    <tr>\n",
       "      <th>2020-10-21</th>\n",
       "      <td>-1.406756</td>\n",
       "      <td>-1.109676</td>\n",
       "      <td>1.166568</td>\n",
       "      <td>-0.848136</td>\n",
       "    </tr>\n",
       "    <tr>\n",
       "      <th>2020-10-28</th>\n",
       "      <td>0.847626</td>\n",
       "      <td>-1.300754</td>\n",
       "      <td>-1.573622</td>\n",
       "      <td>0.768903</td>\n",
       "    </tr>\n",
       "    <tr>\n",
       "      <th>2020-11-04</th>\n",
       "      <td>-0.956357</td>\n",
       "      <td>-0.211437</td>\n",
       "      <td>-1.383139</td>\n",
       "      <td>-0.878407</td>\n",
       "    </tr>\n",
       "    <tr>\n",
       "      <th>2020-11-11</th>\n",
       "      <td>0.141748</td>\n",
       "      <td>-0.191275</td>\n",
       "      <td>-0.021521</td>\n",
       "      <td>-0.248753</td>\n",
       "    </tr>\n",
       "    <tr>\n",
       "      <th>2020-11-18</th>\n",
       "      <td>0.396307</td>\n",
       "      <td>0.928374</td>\n",
       "      <td>1.052692</td>\n",
       "      <td>0.306188</td>\n",
       "    </tr>\n",
       "    <tr>\n",
       "      <th>2020-11-25</th>\n",
       "      <td>-0.025279</td>\n",
       "      <td>0.666582</td>\n",
       "      <td>-0.560415</td>\n",
       "      <td>0.907870</td>\n",
       "    </tr>\n",
       "  </tbody>\n",
       "</table>\n",
       "<p>100 rows × 4 columns</p>\n",
       "</div>"
      ],
      "text/plain": [
       "            Colorado     Texas  New york      Ohio\n",
       "2019-01-02  0.300074  0.063132  0.348648  0.345401\n",
       "2019-01-09 -0.925399 -1.214565  0.904884  0.066809\n",
       "2019-01-16  0.070775  0.295676 -0.565117  0.756468\n",
       "2019-01-23 -0.030890  0.854553  1.647494 -1.733227\n",
       "2019-01-30 -1.437066  0.868002 -0.676711  1.531349\n",
       "2019-02-06 -0.187236 -1.459968  2.378217 -0.272716\n",
       "2019-02-13  2.311891  0.115421  0.909266  0.754189\n",
       "2019-02-20  0.533447 -0.824280 -0.879987  0.591632\n",
       "2019-02-27 -0.859401 -1.860874  0.418673 -0.937063\n",
       "2019-03-06  1.275301  2.335385 -0.458096  0.354503\n",
       "2019-03-13 -1.708572  0.285114 -0.453067 -0.940571\n",
       "2019-03-20 -2.537903 -0.617527  0.454164  1.739520\n",
       "2019-03-27  0.576854  0.974895 -0.697237  0.549912\n",
       "2019-04-03  1.569169  0.187950 -0.127624 -0.679126\n",
       "2019-04-10  0.123711 -1.765782  1.473194  1.126042\n",
       "2019-04-17 -0.897329 -2.758312 -0.168841  0.700357\n",
       "2019-04-24  1.035603 -1.105417 -1.267314 -1.110505\n",
       "2019-05-01  2.136245  2.184442 -1.502571  1.103517\n",
       "2019-05-08 -1.731291  0.221781 -0.701751  0.377894\n",
       "2019-05-15 -0.225452  0.463690 -1.171988  0.887223\n",
       "2019-05-22  0.047598 -0.967248  2.137109 -0.111549\n",
       "2019-05-29 -1.283113  0.050568 -0.511120 -1.073026\n",
       "2019-06-05 -1.243057 -0.444941 -1.494646 -0.226413\n",
       "2019-06-12 -0.620575 -0.554736 -0.900743 -1.016934\n",
       "2019-06-19  0.340717 -0.148478 -1.406838 -0.700315\n",
       "2019-06-26 -0.537492 -0.764297  0.532643  1.336297\n",
       "2019-07-03 -1.522316  1.245307 -1.396496 -0.405009\n",
       "2019-07-10 -1.401933  0.446559 -1.041408  0.576434\n",
       "2019-07-17 -0.511230  2.610992  0.139523 -1.017672\n",
       "2019-07-24 -0.739493 -0.208710 -1.631774  0.093522\n",
       "...              ...       ...       ...       ...\n",
       "2020-05-06  0.329127  0.400546  1.228724  0.241489\n",
       "2020-05-13 -0.593160 -2.921462  0.129400  1.093349\n",
       "2020-05-20  0.066660 -0.395984  0.238877 -1.641057\n",
       "2020-05-27 -0.702893 -1.107839  0.871158 -0.170641\n",
       "2020-06-03  1.148460 -0.754910 -0.323040 -0.292362\n",
       "2020-06-10  0.233481 -0.755098  0.172106  0.692217\n",
       "2020-06-17 -0.543335 -0.777027 -1.135659 -0.451134\n",
       "2020-06-24  0.469604 -0.813881  0.539372  1.191911\n",
       "2020-07-01 -0.227113 -0.204518  1.727533  0.760388\n",
       "2020-07-08  0.116638  0.314894  0.250334  1.098779\n",
       "2020-07-15  0.433390 -0.166179  1.162214 -0.447954\n",
       "2020-07-22 -0.588888 -2.680321  0.285823 -0.744264\n",
       "2020-07-29  1.743590 -0.837160 -0.245509  1.017324\n",
       "2020-08-05  1.151904 -0.548517 -0.376182  0.908263\n",
       "2020-08-12 -1.938557  0.127497  0.874066  1.384578\n",
       "2020-08-19 -1.064242  0.874684  2.187218 -0.845787\n",
       "2020-08-26  0.396578  0.413578 -1.063803  0.568855\n",
       "2020-09-02 -0.856968 -1.277101 -0.835330  0.413693\n",
       "2020-09-09 -0.691981  0.752222 -0.315278 -1.372284\n",
       "2020-09-16 -0.018469 -1.437254 -1.176861  0.882671\n",
       "2020-09-23  0.198081 -0.708680 -0.190072  0.087932\n",
       "2020-09-30 -1.546319  0.339770  1.424819 -0.263097\n",
       "2020-10-07 -1.912414  1.100710  1.458257 -0.346322\n",
       "2020-10-14  0.279036 -0.479760 -0.909236 -0.427637\n",
       "2020-10-21 -1.406756 -1.109676  1.166568 -0.848136\n",
       "2020-10-28  0.847626 -1.300754 -1.573622  0.768903\n",
       "2020-11-04 -0.956357 -0.211437 -1.383139 -0.878407\n",
       "2020-11-11  0.141748 -0.191275 -0.021521 -0.248753\n",
       "2020-11-18  0.396307  0.928374  1.052692  0.306188\n",
       "2020-11-25 -0.025279  0.666582 -0.560415  0.907870\n",
       "\n",
       "[100 rows x 4 columns]"
      ]
     },
     "execution_count": 40,
     "metadata": {},
     "output_type": "execute_result"
    }
   ],
   "source": [
    "longer_df=pd.DataFrame(np.random.randn(100,4),index=dates,columns=['Colorado','Texas','New york','Ohio'])\n",
    "longer_df"
   ]
  },
  {
   "cell_type": "code",
   "execution_count": 41,
   "metadata": {},
   "outputs": [
    {
     "data": {
      "text/html": [
       "<div>\n",
       "<style scoped>\n",
       "    .dataframe tbody tr th:only-of-type {\n",
       "        vertical-align: middle;\n",
       "    }\n",
       "\n",
       "    .dataframe tbody tr th {\n",
       "        vertical-align: top;\n",
       "    }\n",
       "\n",
       "    .dataframe thead th {\n",
       "        text-align: right;\n",
       "    }\n",
       "</style>\n",
       "<table border=\"1\" class=\"dataframe\">\n",
       "  <thead>\n",
       "    <tr style=\"text-align: right;\">\n",
       "      <th></th>\n",
       "      <th>Colorado</th>\n",
       "      <th>Texas</th>\n",
       "      <th>New york</th>\n",
       "      <th>Ohio</th>\n",
       "    </tr>\n",
       "  </thead>\n",
       "  <tbody>\n",
       "    <tr>\n",
       "      <th>2019-05-01</th>\n",
       "      <td>2.136245</td>\n",
       "      <td>2.184442</td>\n",
       "      <td>-1.502571</td>\n",
       "      <td>1.103517</td>\n",
       "    </tr>\n",
       "    <tr>\n",
       "      <th>2019-05-08</th>\n",
       "      <td>-1.731291</td>\n",
       "      <td>0.221781</td>\n",
       "      <td>-0.701751</td>\n",
       "      <td>0.377894</td>\n",
       "    </tr>\n",
       "    <tr>\n",
       "      <th>2019-05-15</th>\n",
       "      <td>-0.225452</td>\n",
       "      <td>0.463690</td>\n",
       "      <td>-1.171988</td>\n",
       "      <td>0.887223</td>\n",
       "    </tr>\n",
       "    <tr>\n",
       "      <th>2019-05-22</th>\n",
       "      <td>0.047598</td>\n",
       "      <td>-0.967248</td>\n",
       "      <td>2.137109</td>\n",
       "      <td>-0.111549</td>\n",
       "    </tr>\n",
       "    <tr>\n",
       "      <th>2019-05-29</th>\n",
       "      <td>-1.283113</td>\n",
       "      <td>0.050568</td>\n",
       "      <td>-0.511120</td>\n",
       "      <td>-1.073026</td>\n",
       "    </tr>\n",
       "  </tbody>\n",
       "</table>\n",
       "</div>"
      ],
      "text/plain": [
       "            Colorado     Texas  New york      Ohio\n",
       "2019-05-01  2.136245  2.184442 -1.502571  1.103517\n",
       "2019-05-08 -1.731291  0.221781 -0.701751  0.377894\n",
       "2019-05-15 -0.225452  0.463690 -1.171988  0.887223\n",
       "2019-05-22  0.047598 -0.967248  2.137109 -0.111549\n",
       "2019-05-29 -1.283113  0.050568 -0.511120 -1.073026"
      ]
     },
     "execution_count": 41,
     "metadata": {},
     "output_type": "execute_result"
    }
   ],
   "source": [
    "longer_df.loc['5-2019']"
   ]
  },
  {
   "cell_type": "code",
   "execution_count": 45,
   "metadata": {},
   "outputs": [
    {
     "data": {
      "text/plain": [
       "DatetimeIndex(['2000-01-01', '2000-02-01', '2000-03-01', '2000-04-01',\n",
       "               '2000-05-01'],\n",
       "              dtype='datetime64[ns]', freq=None)"
      ]
     },
     "execution_count": 45,
     "metadata": {},
     "output_type": "execute_result"
    }
   ],
   "source": [
    "dates=pd.DatetimeIndex(['1/1/2000','2/1/2000','3/1/2000','4/1/2000','5/1/2000'])\n",
    "dates"
   ]
  },
  {
   "cell_type": "code",
   "execution_count": 46,
   "metadata": {},
   "outputs": [
    {
     "data": {
      "text/plain": [
       "2000-01-01    0\n",
       "2000-02-01    1\n",
       "2000-03-01    2\n",
       "2000-04-01    3\n",
       "2000-05-01    4\n",
       "dtype: int32"
      ]
     },
     "execution_count": 46,
     "metadata": {},
     "output_type": "execute_result"
    }
   ],
   "source": [
    "dup_ts=pd.Series(np.arange(5),index=dates)\n",
    "dup_ts"
   ]
  },
  {
   "cell_type": "code",
   "execution_count": 48,
   "metadata": {},
   "outputs": [
    {
     "data": {
      "text/plain": [
       "DatetimeIndex(['2019-01-31', '2019-02-28', '2019-03-31', '2019-04-30',\n",
       "               '2019-05-31'],\n",
       "              dtype='datetime64[ns]', freq='M')"
      ]
     },
     "execution_count": 48,
     "metadata": {},
     "output_type": "execute_result"
    }
   ],
   "source": [
    "pd.date_range(start='1/1/2019',periods=5,freq='M')"
   ]
  },
  {
   "cell_type": "code",
   "execution_count": 49,
   "metadata": {},
   "outputs": [
    {
     "data": {
      "text/plain": [
       "DatetimeIndex(['2019-01-01', '2019-01-02', '2019-01-03', '2019-01-04',\n",
       "               '2019-01-05'],\n",
       "              dtype='datetime64[ns]', freq='D')"
      ]
     },
     "execution_count": 49,
     "metadata": {},
     "output_type": "execute_result"
    }
   ],
   "source": [
    "pd.date_range(start='1/1/2019',periods=5)"
   ]
  },
  {
   "cell_type": "code",
   "execution_count": 50,
   "metadata": {},
   "outputs": [
    {
     "ename": "KeyError",
     "evalue": "'1/2/2000'",
     "output_type": "error",
     "traceback": [
      "\u001b[1;31m---------------------------------------------------------------------------\u001b[0m",
      "\u001b[1;31mTypeError\u001b[0m                                 Traceback (most recent call last)",
      "\u001b[1;32mC:\\Users\\public\\Anaconda3\\lib\\site-packages\\pandas\\core\\indexes\\base.py\u001b[0m in \u001b[0;36mget_value\u001b[1;34m(self, series, key)\u001b[0m\n\u001b[0;32m   4380\u001b[0m             \u001b[1;32mtry\u001b[0m\u001b[1;33m:\u001b[0m\u001b[1;33m\u001b[0m\u001b[1;33m\u001b[0m\u001b[0m\n\u001b[1;32m-> 4381\u001b[1;33m                 \u001b[1;32mreturn\u001b[0m \u001b[0mlibindex\u001b[0m\u001b[1;33m.\u001b[0m\u001b[0mget_value_box\u001b[0m\u001b[1;33m(\u001b[0m\u001b[0ms\u001b[0m\u001b[1;33m,\u001b[0m \u001b[0mkey\u001b[0m\u001b[1;33m)\u001b[0m\u001b[1;33m\u001b[0m\u001b[1;33m\u001b[0m\u001b[0m\n\u001b[0m\u001b[0;32m   4382\u001b[0m             \u001b[1;32mexcept\u001b[0m \u001b[0mIndexError\u001b[0m\u001b[1;33m:\u001b[0m\u001b[1;33m\u001b[0m\u001b[1;33m\u001b[0m\u001b[0m\n",
      "\u001b[1;32mpandas/_libs/index.pyx\u001b[0m in \u001b[0;36mpandas._libs.index.get_value_box\u001b[1;34m()\u001b[0m\n",
      "\u001b[1;32mpandas/_libs/index.pyx\u001b[0m in \u001b[0;36mpandas._libs.index.get_value_at\u001b[1;34m()\u001b[0m\n",
      "\u001b[1;32mpandas/_libs/util.pxd\u001b[0m in \u001b[0;36mpandas._libs.util.get_value_at\u001b[1;34m()\u001b[0m\n",
      "\u001b[1;32mpandas/_libs/util.pxd\u001b[0m in \u001b[0;36mpandas._libs.util.validate_indexer\u001b[1;34m()\u001b[0m\n",
      "\u001b[1;31mTypeError\u001b[0m: 'str' object cannot be interpreted as an integer",
      "\nDuring handling of the above exception, another exception occurred:\n",
      "\u001b[1;31mKeyError\u001b[0m                                  Traceback (most recent call last)",
      "\u001b[1;32mC:\\Users\\public\\Anaconda3\\lib\\site-packages\\pandas\\core\\indexes\\datetimes.py\u001b[0m in \u001b[0;36mget_value\u001b[1;34m(self, series, key)\u001b[0m\n\u001b[0;32m    945\u001b[0m         \u001b[1;32mtry\u001b[0m\u001b[1;33m:\u001b[0m\u001b[1;33m\u001b[0m\u001b[1;33m\u001b[0m\u001b[0m\n\u001b[1;32m--> 946\u001b[1;33m             return com.maybe_box(self, Index.get_value(self, series, key),\n\u001b[0m\u001b[0;32m    947\u001b[0m                                  series, key)\n",
      "\u001b[1;32mC:\\Users\\public\\Anaconda3\\lib\\site-packages\\pandas\\core\\indexes\\base.py\u001b[0m in \u001b[0;36mget_value\u001b[1;34m(self, series, key)\u001b[0m\n\u001b[0;32m   4388\u001b[0m                 \u001b[1;32melse\u001b[0m\u001b[1;33m:\u001b[0m\u001b[1;33m\u001b[0m\u001b[1;33m\u001b[0m\u001b[0m\n\u001b[1;32m-> 4389\u001b[1;33m                     \u001b[1;32mraise\u001b[0m \u001b[0me1\u001b[0m\u001b[1;33m\u001b[0m\u001b[1;33m\u001b[0m\u001b[0m\n\u001b[0m\u001b[0;32m   4390\u001b[0m             \u001b[1;32mexcept\u001b[0m \u001b[0mException\u001b[0m\u001b[1;33m:\u001b[0m  \u001b[1;31m# pragma: no cover\u001b[0m\u001b[1;33m\u001b[0m\u001b[1;33m\u001b[0m\u001b[0m\n",
      "\u001b[1;32mC:\\Users\\public\\Anaconda3\\lib\\site-packages\\pandas\\core\\indexes\\base.py\u001b[0m in \u001b[0;36mget_value\u001b[1;34m(self, series, key)\u001b[0m\n\u001b[0;32m   4374\u001b[0m             return self._engine.get_value(s, k,\n\u001b[1;32m-> 4375\u001b[1;33m                                           tz=getattr(series.dtype, 'tz', None))\n\u001b[0m\u001b[0;32m   4376\u001b[0m         \u001b[1;32mexcept\u001b[0m \u001b[0mKeyError\u001b[0m \u001b[1;32mas\u001b[0m \u001b[0me1\u001b[0m\u001b[1;33m:\u001b[0m\u001b[1;33m\u001b[0m\u001b[1;33m\u001b[0m\u001b[0m\n",
      "\u001b[1;32mpandas/_libs/index.pyx\u001b[0m in \u001b[0;36mpandas._libs.index.IndexEngine.get_value\u001b[1;34m()\u001b[0m\n",
      "\u001b[1;32mpandas/_libs/index.pyx\u001b[0m in \u001b[0;36mpandas._libs.index.IndexEngine.get_value\u001b[1;34m()\u001b[0m\n",
      "\u001b[1;32mpandas/_libs/index.pyx\u001b[0m in \u001b[0;36mpandas._libs.index.DatetimeEngine.get_loc\u001b[1;34m()\u001b[0m\n",
      "\u001b[1;32mpandas/_libs/index.pyx\u001b[0m in \u001b[0;36mpandas._libs.index.DatetimeEngine._date_check_type\u001b[1;34m()\u001b[0m\n",
      "\u001b[1;31mKeyError\u001b[0m: '1/2/2000'",
      "\nDuring handling of the above exception, another exception occurred:\n",
      "\u001b[1;31mKeyError\u001b[0m                                  Traceback (most recent call last)",
      "\u001b[1;32mpandas/_libs/index.pyx\u001b[0m in \u001b[0;36mpandas._libs.index.DatetimeEngine.get_loc\u001b[1;34m()\u001b[0m\n",
      "\u001b[1;32mpandas/_libs/hashtable_class_helper.pxi\u001b[0m in \u001b[0;36mpandas._libs.hashtable.Int64HashTable.get_item\u001b[1;34m()\u001b[0m\n",
      "\u001b[1;32mpandas/_libs/hashtable_class_helper.pxi\u001b[0m in \u001b[0;36mpandas._libs.hashtable.Int64HashTable.get_item\u001b[1;34m()\u001b[0m\n",
      "\u001b[1;31mKeyError\u001b[0m: 946771200000000000",
      "\nDuring handling of the above exception, another exception occurred:\n",
      "\u001b[1;31mKeyError\u001b[0m                                  Traceback (most recent call last)",
      "\u001b[1;32mC:\\Users\\public\\Anaconda3\\lib\\site-packages\\pandas\\core\\indexes\\datetimes.py\u001b[0m in \u001b[0;36mget_value\u001b[1;34m(self, series, key)\u001b[0m\n\u001b[0;32m    955\u001b[0m             \u001b[1;32mtry\u001b[0m\u001b[1;33m:\u001b[0m\u001b[1;33m\u001b[0m\u001b[1;33m\u001b[0m\u001b[0m\n\u001b[1;32m--> 956\u001b[1;33m                 \u001b[1;32mreturn\u001b[0m \u001b[0mself\u001b[0m\u001b[1;33m.\u001b[0m\u001b[0mget_value_maybe_box\u001b[0m\u001b[1;33m(\u001b[0m\u001b[0mseries\u001b[0m\u001b[1;33m,\u001b[0m \u001b[0mkey\u001b[0m\u001b[1;33m)\u001b[0m\u001b[1;33m\u001b[0m\u001b[1;33m\u001b[0m\u001b[0m\n\u001b[0m\u001b[0;32m    957\u001b[0m             \u001b[1;32mexcept\u001b[0m \u001b[1;33m(\u001b[0m\u001b[0mTypeError\u001b[0m\u001b[1;33m,\u001b[0m \u001b[0mValueError\u001b[0m\u001b[1;33m,\u001b[0m \u001b[0mKeyError\u001b[0m\u001b[1;33m)\u001b[0m\u001b[1;33m:\u001b[0m\u001b[1;33m\u001b[0m\u001b[1;33m\u001b[0m\u001b[0m\n",
      "\u001b[1;32mC:\\Users\\public\\Anaconda3\\lib\\site-packages\\pandas\\core\\indexes\\datetimes.py\u001b[0m in \u001b[0;36mget_value_maybe_box\u001b[1;34m(self, series, key)\u001b[0m\n\u001b[0;32m    970\u001b[0m         values = self._engine.get_value(com.values_from_object(series),\n\u001b[1;32m--> 971\u001b[1;33m                                         key, tz=self.tz)\n\u001b[0m\u001b[0;32m    972\u001b[0m         \u001b[1;32mreturn\u001b[0m \u001b[0mcom\u001b[0m\u001b[1;33m.\u001b[0m\u001b[0mmaybe_box\u001b[0m\u001b[1;33m(\u001b[0m\u001b[0mself\u001b[0m\u001b[1;33m,\u001b[0m \u001b[0mvalues\u001b[0m\u001b[1;33m,\u001b[0m \u001b[0mseries\u001b[0m\u001b[1;33m,\u001b[0m \u001b[0mkey\u001b[0m\u001b[1;33m)\u001b[0m\u001b[1;33m\u001b[0m\u001b[1;33m\u001b[0m\u001b[0m\n",
      "\u001b[1;32mpandas/_libs/index.pyx\u001b[0m in \u001b[0;36mpandas._libs.index.IndexEngine.get_value\u001b[1;34m()\u001b[0m\n",
      "\u001b[1;32mpandas/_libs/index.pyx\u001b[0m in \u001b[0;36mpandas._libs.index.IndexEngine.get_value\u001b[1;34m()\u001b[0m\n",
      "\u001b[1;32mpandas/_libs/index.pyx\u001b[0m in \u001b[0;36mpandas._libs.index.DatetimeEngine.get_loc\u001b[1;34m()\u001b[0m\n",
      "\u001b[1;31mKeyError\u001b[0m: Timestamp('2000-01-02 00:00:00')",
      "\nDuring handling of the above exception, another exception occurred:\n",
      "\u001b[1;31mKeyError\u001b[0m                                  Traceback (most recent call last)",
      "\u001b[1;32m<ipython-input-50-9ecc3531c2d9>\u001b[0m in \u001b[0;36m<module>\u001b[1;34m\u001b[0m\n\u001b[1;32m----> 1\u001b[1;33m \u001b[0mdup_ts\u001b[0m\u001b[1;33m[\u001b[0m\u001b[1;34m'1/2/2000'\u001b[0m\u001b[1;33m]\u001b[0m         \u001b[1;31m#the dates present in 2000 will appear\u001b[0m\u001b[1;33m\u001b[0m\u001b[1;33m\u001b[0m\u001b[0m\n\u001b[0m",
      "\u001b[1;32mC:\\Users\\public\\Anaconda3\\lib\\site-packages\\pandas\\core\\series.py\u001b[0m in \u001b[0;36m__getitem__\u001b[1;34m(self, key)\u001b[0m\n\u001b[0;32m    866\u001b[0m         \u001b[0mkey\u001b[0m \u001b[1;33m=\u001b[0m \u001b[0mcom\u001b[0m\u001b[1;33m.\u001b[0m\u001b[0mapply_if_callable\u001b[0m\u001b[1;33m(\u001b[0m\u001b[0mkey\u001b[0m\u001b[1;33m,\u001b[0m \u001b[0mself\u001b[0m\u001b[1;33m)\u001b[0m\u001b[1;33m\u001b[0m\u001b[1;33m\u001b[0m\u001b[0m\n\u001b[0;32m    867\u001b[0m         \u001b[1;32mtry\u001b[0m\u001b[1;33m:\u001b[0m\u001b[1;33m\u001b[0m\u001b[1;33m\u001b[0m\u001b[0m\n\u001b[1;32m--> 868\u001b[1;33m             \u001b[0mresult\u001b[0m \u001b[1;33m=\u001b[0m \u001b[0mself\u001b[0m\u001b[1;33m.\u001b[0m\u001b[0mindex\u001b[0m\u001b[1;33m.\u001b[0m\u001b[0mget_value\u001b[0m\u001b[1;33m(\u001b[0m\u001b[0mself\u001b[0m\u001b[1;33m,\u001b[0m \u001b[0mkey\u001b[0m\u001b[1;33m)\u001b[0m\u001b[1;33m\u001b[0m\u001b[1;33m\u001b[0m\u001b[0m\n\u001b[0m\u001b[0;32m    869\u001b[0m \u001b[1;33m\u001b[0m\u001b[0m\n\u001b[0;32m    870\u001b[0m             \u001b[1;32mif\u001b[0m \u001b[1;32mnot\u001b[0m \u001b[0mis_scalar\u001b[0m\u001b[1;33m(\u001b[0m\u001b[0mresult\u001b[0m\u001b[1;33m)\u001b[0m\u001b[1;33m:\u001b[0m\u001b[1;33m\u001b[0m\u001b[1;33m\u001b[0m\u001b[0m\n",
      "\u001b[1;32mC:\\Users\\public\\Anaconda3\\lib\\site-packages\\pandas\\core\\indexes\\datetimes.py\u001b[0m in \u001b[0;36mget_value\u001b[1;34m(self, series, key)\u001b[0m\n\u001b[0;32m    956\u001b[0m                 \u001b[1;32mreturn\u001b[0m \u001b[0mself\u001b[0m\u001b[1;33m.\u001b[0m\u001b[0mget_value_maybe_box\u001b[0m\u001b[1;33m(\u001b[0m\u001b[0mseries\u001b[0m\u001b[1;33m,\u001b[0m \u001b[0mkey\u001b[0m\u001b[1;33m)\u001b[0m\u001b[1;33m\u001b[0m\u001b[1;33m\u001b[0m\u001b[0m\n\u001b[0;32m    957\u001b[0m             \u001b[1;32mexcept\u001b[0m \u001b[1;33m(\u001b[0m\u001b[0mTypeError\u001b[0m\u001b[1;33m,\u001b[0m \u001b[0mValueError\u001b[0m\u001b[1;33m,\u001b[0m \u001b[0mKeyError\u001b[0m\u001b[1;33m)\u001b[0m\u001b[1;33m:\u001b[0m\u001b[1;33m\u001b[0m\u001b[1;33m\u001b[0m\u001b[0m\n\u001b[1;32m--> 958\u001b[1;33m                 \u001b[1;32mraise\u001b[0m \u001b[0mKeyError\u001b[0m\u001b[1;33m(\u001b[0m\u001b[0mkey\u001b[0m\u001b[1;33m)\u001b[0m\u001b[1;33m\u001b[0m\u001b[1;33m\u001b[0m\u001b[0m\n\u001b[0m\u001b[0;32m    959\u001b[0m \u001b[1;33m\u001b[0m\u001b[0m\n\u001b[0;32m    960\u001b[0m     \u001b[1;32mdef\u001b[0m \u001b[0mget_value_maybe_box\u001b[0m\u001b[1;33m(\u001b[0m\u001b[0mself\u001b[0m\u001b[1;33m,\u001b[0m \u001b[0mseries\u001b[0m\u001b[1;33m,\u001b[0m \u001b[0mkey\u001b[0m\u001b[1;33m)\u001b[0m\u001b[1;33m:\u001b[0m\u001b[1;33m\u001b[0m\u001b[1;33m\u001b[0m\u001b[0m\n",
      "\u001b[1;31mKeyError\u001b[0m: '1/2/2000'"
     ]
    }
   ],
   "source": [
    "dup_ts['1/2/2000']         #the dates present in 2000 will appear "
   ]
  },
  {
   "cell_type": "code",
   "execution_count": 51,
   "metadata": {},
   "outputs": [
    {
     "data": {
      "text/plain": [
       "<Hour>"
      ]
     },
     "execution_count": 51,
     "metadata": {},
     "output_type": "execute_result"
    }
   ],
   "source": [
    "from pandas.tseries.offsets import Hour,Minute\n",
    "hour=Hour()\n",
    "hour"
   ]
  },
  {
   "cell_type": "code",
   "execution_count": 52,
   "metadata": {},
   "outputs": [
    {
     "data": {
      "text/plain": [
       "<4 * Hours>"
      ]
     },
     "execution_count": 52,
     "metadata": {},
     "output_type": "execute_result"
    }
   ],
   "source": [
    "_4hours=Hour(4)\n",
    "_4hours"
   ]
  },
  {
   "cell_type": "code",
   "execution_count": 53,
   "metadata": {},
   "outputs": [
    {
     "data": {
      "text/plain": [
       "DatetimeIndex(['2000-01-01 00:00:00', '2000-01-01 04:00:00',\n",
       "               '2000-01-01 08:00:00', '2000-01-01 12:00:00',\n",
       "               '2000-01-01 16:00:00', '2000-01-01 20:00:00',\n",
       "               '2000-01-02 00:00:00', '2000-01-02 04:00:00',\n",
       "               '2000-01-02 08:00:00', '2000-01-02 12:00:00',\n",
       "               '2000-01-02 16:00:00', '2000-01-02 20:00:00',\n",
       "               '2000-01-03 00:00:00'],\n",
       "              dtype='datetime64[ns]', freq='4H')"
      ]
     },
     "execution_count": 53,
     "metadata": {},
     "output_type": "execute_result"
    }
   ],
   "source": [
    "pd.date_range('2000-01-01','2000-01-03',freq='4H')"
   ]
  },
  {
   "cell_type": "code",
   "execution_count": 54,
   "metadata": {},
   "outputs": [
    {
     "data": {
      "text/plain": [
       "DatetimeIndex(['2000-01-01 00:00:00', '2000-01-01 01:30:00',\n",
       "               '2000-01-01 03:00:00', '2000-01-01 04:30:00',\n",
       "               '2000-01-01 06:00:00', '2000-01-01 07:30:00',\n",
       "               '2000-01-01 09:00:00', '2000-01-01 10:30:00',\n",
       "               '2000-01-01 12:00:00', '2000-01-01 13:30:00'],\n",
       "              dtype='datetime64[ns]', freq='90T')"
      ]
     },
     "execution_count": 54,
     "metadata": {},
     "output_type": "execute_result"
    }
   ],
   "source": [
    "pd.date_range('2000-01-01',periods=10,freq='1H30MIN')"
   ]
  },
  {
   "cell_type": "code",
   "execution_count": 56,
   "metadata": {},
   "outputs": [],
   "source": [
    "s=pd.date_range('2019-12-11',periods=10)"
   ]
  },
  {
   "cell_type": "code",
   "execution_count": 57,
   "metadata": {},
   "outputs": [
    {
     "name": "stdout",
     "output_type": "stream",
     "text": [
      "2 Wednesday\n",
      "3 Thursday\n",
      "4 Friday\n",
      "5 Saturday\n",
      "6 Sunday\n",
      "0 Monday\n",
      "1 Tuesday\n",
      "2 Wednesday\n",
      "3 Thursday\n",
      "4 Friday\n"
     ]
    },
    {
     "name": "stderr",
     "output_type": "stream",
     "text": [
      "C:\\Users\\public\\Anaconda3\\lib\\site-packages\\ipykernel_launcher.py:2: FutureWarning: `weekday_name` is deprecated and will be removed in a future version. Use `day_name` instead\n",
      "  \n"
     ]
    }
   ],
   "source": [
    "for day in s:\n",
    "    print(day.dayofweek,day.weekday_name)"
   ]
  },
  {
   "cell_type": "code",
   "execution_count": 58,
   "metadata": {},
   "outputs": [
    {
     "name": "stdout",
     "output_type": "stream",
     "text": [
      "2\n",
      "3\n",
      "4\n",
      "5\n",
      "6\n",
      "0\n",
      "1\n",
      "2\n",
      "3\n",
      "4\n"
     ]
    }
   ],
   "source": [
    "for day in s:\n",
    "    print(day.dayofweek)"
   ]
  },
  {
   "cell_type": "code",
   "execution_count": null,
   "metadata": {},
   "outputs": [],
   "source": [
    "                                                                                                                                                                                                                                                                                                                                                                                                                                                                                                                                                                                                                                                                                                                                                                                                                                                                                                                                                                                                                                                                                                                                                                                                                                                                                                                                                                                                                                                                                                                                                                                                                                                                                                                                                                                                                                                                                                                                                                                                                                                                                                                                                          "
   ]
  }
 ],
 "metadata": {
  "kernelspec": {
   "display_name": "Python 3",
   "language": "python",
   "name": "python3"
  },
  "language_info": {
   "codemirror_mode": {
    "name": "ipython",
    "version": 3
   },
   "file_extension": ".py",
   "mimetype": "text/x-python",
   "name": "python",
   "nbconvert_exporter": "python",
   "pygments_lexer": "ipython3",
   "version": "3.7.3"
  }
 },
 "nbformat": 4,
 "nbformat_minor": 2
}
