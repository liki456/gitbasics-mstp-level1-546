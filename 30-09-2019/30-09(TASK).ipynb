{
 "cells": [
  {
   "cell_type": "markdown",
   "metadata": {},
   "source": [
    "write a program to generate and print a list and a dictoranies of squares in between 1 to 15"
   ]
  },
  {
   "cell_type": "code",
   "execution_count": 15,
   "metadata": {},
   "outputs": [
    {
     "name": "stdout",
     "output_type": "stream",
     "text": [
      "{1: 1, 2: 4, 3: 9, 4: 16, 5: 25, 6: 36, 7: 49, 8: 64, 9: 81, 10: 100, 11: 121, 12: 144, 13: 169, 14: 196, 15: 225}\n",
      "[1, 4, 9, 16, 25, 36, 49, 64, 81, 100, 121, 144, 169, 196, 225]\n"
     ]
    }
   ],
   "source": [
    "s={}\n",
    "l=[]\n",
    "for i in range(1,15+1):\n",
    "     s[i]=i**2\n",
    "     l.append(i**2)\n",
    "     \n",
    "print(s)\n",
    "print(l)"
   ]
  },
  {
   "cell_type": "markdown",
   "metadata": {},
   "source": [
    "Take 10 integer inputs from the user and store them in alist and print them in the screen"
   ]
  },
  {
   "cell_type": "code",
   "execution_count": 17,
   "metadata": {},
   "outputs": [
    {
     "name": "stdout",
     "output_type": "stream",
     "text": [
      "10\n",
      "1\n",
      "2\n",
      "3\n",
      "4\n",
      "5\n",
      "6\n",
      "7\n",
      "8\n",
      "9\n",
      "10\n",
      "[1, 2, 3, 4, 5, 6, 7, 8, 9, 10]\n"
     ]
    }
   ],
   "source": [
    "f=[]\n",
    "p=int(input())\n",
    "for i in range(1,p+1):\n",
    "    g=list(map(int,input().split()))\n",
    "    f.append(i)\n",
    "print(f)"
   ]
  },
  {
   "cell_type": "markdown",
   "metadata": {},
   "source": [
    "Print list of all even number in the given list"
   ]
  },
  {
   "cell_type": "code",
   "execution_count": 5,
   "metadata": {},
   "outputs": [
    {
     "name": "stdout",
     "output_type": "stream",
     "text": [
      "[2, 4]\n"
     ]
    }
   ],
   "source": [
    "l=[1,5,7,3,2,4,5,9]\n",
    "y=[]\n",
    "\n",
    "for i in range(0,len(l)):\n",
    "    \n",
    "    \n",
    "    if (l[i]%2==0):\n",
    "        y.append(l[i])\n",
    "print(y)\n",
    "\n",
    "    "
   ]
  },
  {
   "cell_type": "markdown",
   "metadata": {},
   "source": [
    "Ask user to give 10 names and marks of 10 different students.store them in the dictionary"
   ]
  },
  {
   "cell_type": "code",
   "execution_count": 13,
   "metadata": {},
   "outputs": [
    {
     "name": "stdout",
     "output_type": "stream",
     "text": [
      "5\n",
      "uytgh\n",
      "89\n",
      "uyjk\n",
      "34\n",
      "iuhnj\n",
      "89\n",
      "yuitj\n",
      "59\n",
      "huiuhn\n",
      "90\n",
      "{'uytgh': 89, 'uyjk': 34, 'iuhnj': 89, 'yuitj': 59, 'huiuhn': 90}\n",
      "['huiuhn', 'iuhnj', 'uyjk', 'uytgh', 'yuitj']\n"
     ]
    }
   ],
   "source": [
    "d={}\n",
    "n=int(input())\n",
    "for i in range(1,n+1):\n",
    "    y=input()\n",
    "    h=int(input())\n",
    "    d[y]=h\n",
    "\n",
    "print(d)\n",
    "g=sorted(d.keys())\n",
    "print(g)\n"
   ]
  },
  {
   "cell_type": "code",
   "execution_count": 12,
   "metadata": {},
   "outputs": [
    {
     "name": "stdout",
     "output_type": "stream",
     "text": [
      "3\n",
      "56\n",
      "hiyh\n",
      "89\n",
      "igunm\n",
      "90\n",
      "ighkj\n",
      "{56: 'hiyh', 89: 'igunm', 90: 'ighkj'}\n",
      "[56, 89, 90]\n",
      "56 : hiyh\n",
      "89 : igunm\n",
      "90 : ighkj\n"
     ]
    }
   ],
   "source": [
    "d={}\n",
    "n=int(input())\n",
    "for i in range(1,n+1):\n",
    "    y=int(input())\n",
    "    h=input()\n",
    "    d[y]=h\n",
    "\n",
    "print(d)\n",
    "g=sorted(d.keys())\n",
    "print(g)\n",
    "for i in g:\n",
    "    print(i,\":\",d[i])\n"
   ]
  },
  {
   "cell_type": "markdown",
   "metadata": {},
   "source": [
    "ANTONOMY of the dictonary"
   ]
  },
  {
   "cell_type": "code",
   "execution_count": 16,
   "metadata": {},
   "outputs": [
    {
     "name": "stdout",
     "output_type": "stream",
     "text": [
      "['top', 'right', 'push']\n",
      "push\n",
      "pop\n"
     ]
    }
   ],
   "source": [
    "g={\"top\":\"bottom\",\"right\":\"left\",\"push\":\"pop\"}\n",
    "print(list(g.keys()))\n",
    "n=input()\n",
    "#print(g.get(n))\n",
    "print(g[n])\n"
   ]
  },
  {
   "cell_type": "markdown",
   "metadata": {},
   "source": [
    "Count the number of occurence of each letter in word \"MISSISSIPPI\".store count of each letter with the letter ina dictonary"
   ]
  },
  {
   "cell_type": "code",
   "execution_count": 6,
   "metadata": {},
   "outputs": [
    {
     "name": "stdout",
     "output_type": "stream",
     "text": [
      "{'m': 1, 's': 4, 'p': 2, 'i': 4}\n"
     ]
    }
   ],
   "source": [
    "u=\"mississippi\"\n",
    "r={}\n",
    "n=set(u)\n",
    "for i in n:\n",
    "    r[i]=l.count(i)\n",
    "print(r)"
   ]
  },
  {
   "cell_type": "markdown",
   "metadata": {},
   "source": [
    "Sort the above question in alphabetical order"
   ]
  },
  {
   "cell_type": "code",
   "execution_count": 4,
   "metadata": {},
   "outputs": [
    {
     "name": "stdout",
     "output_type": "stream",
     "text": [
      "{'i': 4, 'm': 1, 'p': 2, 's': 4}\n"
     ]
    }
   ],
   "source": [
    "l=\"mississippi\"\n",
    "f=sorted(set(l))\n",
    "\n",
    "\n",
    "k={}\n",
    "for i in f:\n",
    "    k[i]=l.count(i)\n",
    "print(k)"
   ]
  },
  {
   "cell_type": "markdown",
   "metadata": {},
   "source": [
    "From the previous problem sort according to the number of letters"
   ]
  },
  {
   "cell_type": "code",
   "execution_count": 22,
   "metadata": {},
   "outputs": [
    {
     "name": "stdout",
     "output_type": "stream",
     "text": [
      "-9\n",
      "0\n",
      "-10\n",
      "2\n",
      "-55\n",
      "24\n",
      "6\n",
      "0\n",
      "-8\n",
      "66\n",
      "{'p': 4, 'n': 4, 'e': 6, 'o': 2, 'z': 2}\n"
     ]
    }
   ],
   "source": [
    "l=[]\n",
    "for i in range(1,11):\n",
    "    n=int(input())\n",
    "    l.append(n)\n",
    "d={'p':0,'n':0,'e':0,'o':0,'z':0}\n",
    "for j in l:\n",
    "    if j>0:\n",
    "        d['p']+=1\n",
    "        if j%2==0:\n",
    "            d['e']+=1\n",
    "        else:\n",
    "            d['o']+=1\n",
    "    elif j<0:\n",
    "        d['n']+=1\n",
    "        if j%2==0:\n",
    "            d['e']+=1\n",
    "        else:\n",
    "            d['o']+=1     \n",
    "    elif j==0:\n",
    "        d['z']+=1\n",
    "print(d)\n",
    "\n",
    "    "
   ]
  },
  {
   "cell_type": "code",
   "execution_count": null,
   "metadata": {},
   "outputs": [],
   "source": []
  }
 ],
 "metadata": {
  "kernelspec": {
   "display_name": "Python 3",
   "language": "python",
   "name": "python3"
  },
  "language_info": {
   "codemirror_mode": {
    "name": "ipython",
    "version": 3
   },
   "file_extension": ".py",
   "mimetype": "text/x-python",
   "name": "python",
   "nbconvert_exporter": "python",
   "pygments_lexer": "ipython3",
   "version": "3.7.3"
  }
 },
 "nbformat": 4,
 "nbformat_minor": 2
}
