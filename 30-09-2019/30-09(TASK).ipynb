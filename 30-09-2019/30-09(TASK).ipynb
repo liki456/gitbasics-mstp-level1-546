{
 "cells": [
  {
   "cell_type": "markdown",
   "metadata": {},
   "source": [
    "write a program to generate and print a list and a dictoranies of squares in between 1 to 15"
   ]
  },
  {
   "cell_type": "code",
   "execution_count": 15,
   "metadata": {},
   "outputs": [
    {
     "name": "stdout",
     "output_type": "stream",
     "text": [
      "{1: 1, 2: 4, 3: 9, 4: 16, 5: 25, 6: 36, 7: 49, 8: 64, 9: 81, 10: 100, 11: 121, 12: 144, 13: 169, 14: 196, 15: 225}\n",
      "[1, 4, 9, 16, 25, 36, 49, 64, 81, 100, 121, 144, 169, 196, 225]\n"
     ]
    }
   ],
   "source": [
    "s={}\n",
    "l=[]\n",
    "for i in range(1,15+1):\n",
    "     s[i]=i**2\n",
    "     l.append(i**2)\n",
    "     \n",
    "print(s)\n",
    "print(l)"
   ]
  },
  {
   "cell_type": "markdown",
   "metadata": {},
   "source": [
    "Take 10 integer inputs from the user and store them in alist and print them in the screen"
   ]
  },
  {
   "cell_type": "code",
   "execution_count": 17,
   "metadata": {},
   "outputs": [
    {
     "name": "stdout",
     "output_type": "stream",
     "text": [
      "10\n",
      "1\n",
      "2\n",
      "3\n",
      "4\n",
      "5\n",
      "6\n",
      "7\n",
      "8\n",
      "9\n",
      "10\n",
      "[1, 2, 3, 4, 5, 6, 7, 8, 9, 10]\n"
     ]
    }
   ],
   "source": [
    "f=[]\n",
    "p=int(input())\n",
    "for i in range(1,p+1):\n",
    "    g=list(map(int,input().split()))\n",
    "    f.append(i)\n",
    "print(f)"
   ]
  },
  {
   "cell_type": "markdown",
   "metadata": {},
   "source": [
    "Print list of all even number in the given list"
   ]
  },
  {
   "cell_type": "code",
   "execution_count": 29,
   "metadata": {},
   "outputs": [
    {
     "name": "stdout",
     "output_type": "stream",
     "text": [
      "2\n",
      "4\n"
     ]
    }
   ],
   "source": [
    "l=[1,5,7,3,2,4,5,9]\n",
    "for i in range(0,len(l)):\n",
    "    \n",
    "    if (l[i]%2==0):\n",
    "        print(l[i])\n",
    "\n",
    "    "
   ]
  },
  {
   "cell_type": "markdown",
   "metadata": {},
   "source": [
    "Ask user to give 10 names and marks of 10 different students.store them in the dictionary"
   ]
  },
  {
   "cell_type": "code",
   "execution_count": 11,
   "metadata": {},
   "outputs": [
    {
     "name": "stdout",
     "output_type": "stream",
     "text": [
      "dfygh\n",
      "70\n",
      "yvgbhkm\n",
      "90\n",
      "xdcfvgbhjk\n",
      "78\n",
      "sdfgh\n",
      "90\n",
      "dfghj\n",
      "79\n",
      "sdfghj\n",
      "90\n",
      "edfyghj\n",
      "60\n",
      "dfgh\n",
      "89\n",
      "edfghj\n",
      "59\n",
      "wserdtfgh\n",
      "40\n",
      "{'dfygh': 70, 'yvgbhkm': 90, 'xdcfvgbhjk': 78, 'sdfgh': 90, 'dfghj': 79, 'sdfghj': 90, 'edfyghj': 60, 'dfgh': 89, 'edfghj': 59, 'wserdtfgh': 40}\n"
     ]
    }
   ],
   "source": [
    "d={}\n",
    "n=10\n",
    "for i in range(1,n+1):\n",
    "    y=input()\n",
    "    h=int(input())\n",
    "    d[y]=h\n",
    "\n",
    "print(d)\n",
    "\n",
    "\n"
   ]
  },
  {
   "cell_type": "code",
   "execution_count": 14,
   "metadata": {},
   "outputs": [
    {
     "name": "stdout",
     "output_type": "stream",
     "text": [
      "wserdtfgh\n"
     ]
    }
   ],
   "source": [
    "l=sorted(y)\n",
    "print(y)"
   ]
  },
  {
   "cell_type": "markdown",
   "metadata": {},
   "source": [
    "Count the number of occurence of each letter in word \"MISSISSIPPI\".store count of each letter with the letter ina dictonary"
   ]
  },
  {
   "cell_type": "code",
   "execution_count": 6,
   "metadata": {},
   "outputs": [
    {
     "name": "stdout",
     "output_type": "stream",
     "text": [
      "{'m': 1, 's': 4, 'p': 2, 'i': 4}\n"
     ]
    }
   ],
   "source": [
    "u=\"mississippi\"\n",
    "r={}\n",
    "n=set(u)\n",
    "for i in n:\n",
    "    r[i]=l.count(i)\n",
    "print(r)"
   ]
  },
  {
   "cell_type": "code",
   "execution_count": null,
   "metadata": {},
   "outputs": [],
   "source": []
  },
  {
   "cell_type": "code",
   "execution_count": 4,
   "metadata": {},
   "outputs": [
    {
     "name": "stdout",
     "output_type": "stream",
     "text": [
      "{'i': 4, 'm': 1, 'p': 2, 's': 4}\n"
     ]
    }
   ],
   "source": [
    "l=\"mississippi\"\n",
    "f=sorted(set(l))\n",
    "\n",
    "\n",
    "k={}\n",
    "for i in f:\n",
    "    k[i]=l.count(i)\n",
    "print(k)"
   ]
  },
  {
   "cell_type": "code",
   "execution_count": 1,
   "metadata": {},
   "outputs": [
    {
     "name": "stdout",
     "output_type": "stream",
     "text": [
      "k:2\n",
      "h:2\n",
      "l:2\n",
      "i:4\n",
      "a:2\n",
      "t:2\n"
     ]
    }
   ],
   "source": [
    "i=\"likithalikitha\"\n",
    "y=list(set(i))\n",
    "for j in y:\n",
    "    print(j,i.count(j),sep=\":\")"
   ]
  },
  {
   "cell_type": "markdown",
   "metadata": {},
   "source": [
    "From the previous problem sort according to the number of letters"
   ]
  },
  {
   "cell_type": "code",
   "execution_count": 3,
   "metadata": {},
   "outputs": [
    {
     "name": "stdout",
     "output_type": "stream",
     "text": [
      "{'k', 'h', 'l', 'i', 'a', 't'}\n"
     ]
    }
   ],
   "source": [
    "n=sorted(i)\n",
    "x=set(n)\n",
    "print(x)"
   ]
  },
  {
   "cell_type": "code",
   "execution_count": 19,
   "metadata": {},
   "outputs": [
    {
     "name": "stdout",
     "output_type": "stream",
     "text": [
      "10\n",
      "5\n"
     ]
    },
    {
     "ename": "TypeError",
     "evalue": "'>' not supported between instances of 'list' and 'int'",
     "output_type": "error",
     "traceback": [
      "\u001b[1;31m---------------------------------------------------------------------------\u001b[0m",
      "\u001b[1;31mTypeError\u001b[0m                                 Traceback (most recent call last)",
      "\u001b[1;32m<ipython-input-19-4ded3d8c52b1>\u001b[0m in \u001b[0;36m<module>\u001b[1;34m\u001b[0m\n\u001b[0;32m      8\u001b[0m     \u001b[0mq\u001b[0m\u001b[1;33m=\u001b[0m\u001b[1;36m0\u001b[0m\u001b[1;33m\u001b[0m\u001b[1;33m\u001b[0m\u001b[0m\n\u001b[0;32m      9\u001b[0m     \u001b[0mu\u001b[0m\u001b[1;33m=\u001b[0m\u001b[0mlist\u001b[0m\u001b[1;33m(\u001b[0m\u001b[0mmap\u001b[0m\u001b[1;33m(\u001b[0m\u001b[0mint\u001b[0m\u001b[1;33m,\u001b[0m\u001b[0minput\u001b[0m\u001b[1;33m(\u001b[0m\u001b[1;33m)\u001b[0m\u001b[1;33m.\u001b[0m\u001b[0msplit\u001b[0m\u001b[1;33m(\u001b[0m\u001b[1;33m)\u001b[0m\u001b[1;33m)\u001b[0m\u001b[1;33m)\u001b[0m\u001b[1;33m\u001b[0m\u001b[1;33m\u001b[0m\u001b[0m\n\u001b[1;32m---> 10\u001b[1;33m     \u001b[1;32mif\u001b[0m \u001b[1;33m(\u001b[0m\u001b[0mu\u001b[0m\u001b[1;33m>\u001b[0m\u001b[1;36m0\u001b[0m\u001b[1;33m)\u001b[0m\u001b[1;33m:\u001b[0m\u001b[1;33m\u001b[0m\u001b[1;33m\u001b[0m\u001b[0m\n\u001b[0m\u001b[0;32m     11\u001b[0m         \u001b[0mp\u001b[0m\u001b[1;33m=\u001b[0m\u001b[0mP\u001b[0m\u001b[1;33m+\u001b[0m\u001b[1;36m1\u001b[0m\u001b[1;33m\u001b[0m\u001b[1;33m\u001b[0m\u001b[0m\n\u001b[0;32m     12\u001b[0m \u001b[1;33m\u001b[0m\u001b[0m\n",
      "\u001b[1;31mTypeError\u001b[0m: '>' not supported between instances of 'list' and 'int'"
     ]
    }
   ],
   "source": [
    "n=int(input())\n",
    "\n",
    "for i in range(1,n+1):\n",
    "    p=0\n",
    "    n=0\n",
    "    o=0\n",
    "    e=0\n",
    "    q=0\n",
    "    u=list(map(int,input().split()))\n",
    "    if (u>0):\n",
    "        p=P+1\n",
    "        \n",
    "        print(p)\n",
    "    elif u<0:\n",
    "        n=n+1\n",
    "        print(n)\n",
    "    elif u%2==0:\n",
    "        e=e+1\n",
    "        print(e)\n",
    "    elif u%2!=0:\n",
    "        o=o+1\n",
    "        print(o)\n",
    "    elif u==0:\n",
    "        q=q+1\n",
    "        print(q)\n",
    "        "
   ]
  },
  {
   "cell_type": "code",
   "execution_count": null,
   "metadata": {},
   "outputs": [],
   "source": []
  }
 ],
 "metadata": {
  "kernelspec": {
   "display_name": "Python 3",
   "language": "python",
   "name": "python3"
  },
  "language_info": {
   "codemirror_mode": {
    "name": "ipython",
    "version": 3
   },
   "file_extension": ".py",
   "mimetype": "text/x-python",
   "name": "python",
   "nbconvert_exporter": "python",
   "pygments_lexer": "ipython3",
   "version": "3.7.3"
  }
 },
 "nbformat": 4,
 "nbformat_minor": 2
}
